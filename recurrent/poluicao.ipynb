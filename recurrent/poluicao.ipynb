{
 "cells": [
  {
   "cell_type": "code",
   "execution_count": 101,
   "metadata": {},
   "outputs": [],
   "source": [
    "import pandas as pd\n",
    "import numpy as np\n",
    "import matplotlib.pyplot as plt\n",
    "import tensorflow as tf\n",
    "\n",
    "from tensorflow.keras.layers import Input, Dense, Dropout, LSTM\n",
    "from tensorflow.keras.models import Sequential\n",
    "from tensorflow.keras.callbacks import EarlyStopping, ReduceLROnPlateau, ModelCheckpoint\n",
    "from sklearn.preprocessing import MinMaxScaler, LabelEncoder\n",
    "from sklearn.metrics import mean_absolute_error"
   ]
  },
  {
   "cell_type": "code",
   "execution_count": 102,
   "metadata": {},
   "outputs": [
    {
     "data": {
      "text/html": [
       "<div>\n",
       "<style scoped>\n",
       "    .dataframe tbody tr th:only-of-type {\n",
       "        vertical-align: middle;\n",
       "    }\n",
       "\n",
       "    .dataframe tbody tr th {\n",
       "        vertical-align: top;\n",
       "    }\n",
       "\n",
       "    .dataframe thead th {\n",
       "        text-align: right;\n",
       "    }\n",
       "</style>\n",
       "<table border=\"1\" class=\"dataframe\">\n",
       "  <thead>\n",
       "    <tr style=\"text-align: right;\">\n",
       "      <th></th>\n",
       "      <th>No</th>\n",
       "      <th>year</th>\n",
       "      <th>month</th>\n",
       "      <th>day</th>\n",
       "      <th>hour</th>\n",
       "      <th>pm2.5</th>\n",
       "      <th>DEWP</th>\n",
       "      <th>TEMP</th>\n",
       "      <th>PRES</th>\n",
       "      <th>cbwd</th>\n",
       "      <th>Iws</th>\n",
       "      <th>Is</th>\n",
       "      <th>Ir</th>\n",
       "    </tr>\n",
       "  </thead>\n",
       "  <tbody>\n",
       "    <tr>\n",
       "      <th>0</th>\n",
       "      <td>1</td>\n",
       "      <td>2010</td>\n",
       "      <td>1</td>\n",
       "      <td>1</td>\n",
       "      <td>0</td>\n",
       "      <td>NaN</td>\n",
       "      <td>-21</td>\n",
       "      <td>-11.0</td>\n",
       "      <td>1021.0</td>\n",
       "      <td>NW</td>\n",
       "      <td>1.79</td>\n",
       "      <td>0</td>\n",
       "      <td>0</td>\n",
       "    </tr>\n",
       "    <tr>\n",
       "      <th>1</th>\n",
       "      <td>2</td>\n",
       "      <td>2010</td>\n",
       "      <td>1</td>\n",
       "      <td>1</td>\n",
       "      <td>1</td>\n",
       "      <td>NaN</td>\n",
       "      <td>-21</td>\n",
       "      <td>-12.0</td>\n",
       "      <td>1020.0</td>\n",
       "      <td>NW</td>\n",
       "      <td>4.92</td>\n",
       "      <td>0</td>\n",
       "      <td>0</td>\n",
       "    </tr>\n",
       "    <tr>\n",
       "      <th>2</th>\n",
       "      <td>3</td>\n",
       "      <td>2010</td>\n",
       "      <td>1</td>\n",
       "      <td>1</td>\n",
       "      <td>2</td>\n",
       "      <td>NaN</td>\n",
       "      <td>-21</td>\n",
       "      <td>-11.0</td>\n",
       "      <td>1019.0</td>\n",
       "      <td>NW</td>\n",
       "      <td>6.71</td>\n",
       "      <td>0</td>\n",
       "      <td>0</td>\n",
       "    </tr>\n",
       "    <tr>\n",
       "      <th>3</th>\n",
       "      <td>4</td>\n",
       "      <td>2010</td>\n",
       "      <td>1</td>\n",
       "      <td>1</td>\n",
       "      <td>3</td>\n",
       "      <td>NaN</td>\n",
       "      <td>-21</td>\n",
       "      <td>-14.0</td>\n",
       "      <td>1019.0</td>\n",
       "      <td>NW</td>\n",
       "      <td>9.84</td>\n",
       "      <td>0</td>\n",
       "      <td>0</td>\n",
       "    </tr>\n",
       "    <tr>\n",
       "      <th>4</th>\n",
       "      <td>5</td>\n",
       "      <td>2010</td>\n",
       "      <td>1</td>\n",
       "      <td>1</td>\n",
       "      <td>4</td>\n",
       "      <td>NaN</td>\n",
       "      <td>-20</td>\n",
       "      <td>-12.0</td>\n",
       "      <td>1018.0</td>\n",
       "      <td>NW</td>\n",
       "      <td>12.97</td>\n",
       "      <td>0</td>\n",
       "      <td>0</td>\n",
       "    </tr>\n",
       "    <tr>\n",
       "      <th>...</th>\n",
       "      <td>...</td>\n",
       "      <td>...</td>\n",
       "      <td>...</td>\n",
       "      <td>...</td>\n",
       "      <td>...</td>\n",
       "      <td>...</td>\n",
       "      <td>...</td>\n",
       "      <td>...</td>\n",
       "      <td>...</td>\n",
       "      <td>...</td>\n",
       "      <td>...</td>\n",
       "      <td>...</td>\n",
       "      <td>...</td>\n",
       "    </tr>\n",
       "    <tr>\n",
       "      <th>43819</th>\n",
       "      <td>43820</td>\n",
       "      <td>2014</td>\n",
       "      <td>12</td>\n",
       "      <td>31</td>\n",
       "      <td>19</td>\n",
       "      <td>8.0</td>\n",
       "      <td>-23</td>\n",
       "      <td>-2.0</td>\n",
       "      <td>1034.0</td>\n",
       "      <td>NW</td>\n",
       "      <td>231.97</td>\n",
       "      <td>0</td>\n",
       "      <td>0</td>\n",
       "    </tr>\n",
       "    <tr>\n",
       "      <th>43820</th>\n",
       "      <td>43821</td>\n",
       "      <td>2014</td>\n",
       "      <td>12</td>\n",
       "      <td>31</td>\n",
       "      <td>20</td>\n",
       "      <td>10.0</td>\n",
       "      <td>-22</td>\n",
       "      <td>-3.0</td>\n",
       "      <td>1034.0</td>\n",
       "      <td>NW</td>\n",
       "      <td>237.78</td>\n",
       "      <td>0</td>\n",
       "      <td>0</td>\n",
       "    </tr>\n",
       "    <tr>\n",
       "      <th>43821</th>\n",
       "      <td>43822</td>\n",
       "      <td>2014</td>\n",
       "      <td>12</td>\n",
       "      <td>31</td>\n",
       "      <td>21</td>\n",
       "      <td>10.0</td>\n",
       "      <td>-22</td>\n",
       "      <td>-3.0</td>\n",
       "      <td>1034.0</td>\n",
       "      <td>NW</td>\n",
       "      <td>242.70</td>\n",
       "      <td>0</td>\n",
       "      <td>0</td>\n",
       "    </tr>\n",
       "    <tr>\n",
       "      <th>43822</th>\n",
       "      <td>43823</td>\n",
       "      <td>2014</td>\n",
       "      <td>12</td>\n",
       "      <td>31</td>\n",
       "      <td>22</td>\n",
       "      <td>8.0</td>\n",
       "      <td>-22</td>\n",
       "      <td>-4.0</td>\n",
       "      <td>1034.0</td>\n",
       "      <td>NW</td>\n",
       "      <td>246.72</td>\n",
       "      <td>0</td>\n",
       "      <td>0</td>\n",
       "    </tr>\n",
       "    <tr>\n",
       "      <th>43823</th>\n",
       "      <td>43824</td>\n",
       "      <td>2014</td>\n",
       "      <td>12</td>\n",
       "      <td>31</td>\n",
       "      <td>23</td>\n",
       "      <td>12.0</td>\n",
       "      <td>-21</td>\n",
       "      <td>-3.0</td>\n",
       "      <td>1034.0</td>\n",
       "      <td>NW</td>\n",
       "      <td>249.85</td>\n",
       "      <td>0</td>\n",
       "      <td>0</td>\n",
       "    </tr>\n",
       "  </tbody>\n",
       "</table>\n",
       "<p>43824 rows × 13 columns</p>\n",
       "</div>"
      ],
      "text/plain": [
       "          No  year  month  day  hour  pm2.5  DEWP  TEMP    PRES cbwd     Iws  \\\n",
       "0          1  2010      1    1     0    NaN   -21 -11.0  1021.0   NW    1.79   \n",
       "1          2  2010      1    1     1    NaN   -21 -12.0  1020.0   NW    4.92   \n",
       "2          3  2010      1    1     2    NaN   -21 -11.0  1019.0   NW    6.71   \n",
       "3          4  2010      1    1     3    NaN   -21 -14.0  1019.0   NW    9.84   \n",
       "4          5  2010      1    1     4    NaN   -20 -12.0  1018.0   NW   12.97   \n",
       "...      ...   ...    ...  ...   ...    ...   ...   ...     ...  ...     ...   \n",
       "43819  43820  2014     12   31    19    8.0   -23  -2.0  1034.0   NW  231.97   \n",
       "43820  43821  2014     12   31    20   10.0   -22  -3.0  1034.0   NW  237.78   \n",
       "43821  43822  2014     12   31    21   10.0   -22  -3.0  1034.0   NW  242.70   \n",
       "43822  43823  2014     12   31    22    8.0   -22  -4.0  1034.0   NW  246.72   \n",
       "43823  43824  2014     12   31    23   12.0   -21  -3.0  1034.0   NW  249.85   \n",
       "\n",
       "       Is  Ir  \n",
       "0       0   0  \n",
       "1       0   0  \n",
       "2       0   0  \n",
       "3       0   0  \n",
       "4       0   0  \n",
       "...    ..  ..  \n",
       "43819   0   0  \n",
       "43820   0   0  \n",
       "43821   0   0  \n",
       "43822   0   0  \n",
       "43823   0   0  \n",
       "\n",
       "[43824 rows x 13 columns]"
      ]
     },
     "execution_count": 102,
     "metadata": {},
     "output_type": "execute_result"
    }
   ],
   "source": [
    "base = pd.read_csv('bases/poluicao.csv')\n",
    "base"
   ]
  },
  {
   "cell_type": "code",
   "execution_count": 103,
   "metadata": {},
   "outputs": [
    {
     "data": {
      "text/plain": [
       "No          0\n",
       "year        0\n",
       "month       0\n",
       "day         0\n",
       "hour        0\n",
       "pm2.5    2067\n",
       "DEWP        0\n",
       "TEMP        0\n",
       "PRES        0\n",
       "cbwd        0\n",
       "Iws         0\n",
       "Is          0\n",
       "Ir          0\n",
       "dtype: int64"
      ]
     },
     "execution_count": 103,
     "metadata": {},
     "output_type": "execute_result"
    }
   ],
   "source": [
    "base.isna().sum()"
   ]
  },
  {
   "cell_type": "code",
   "execution_count": 104,
   "metadata": {},
   "outputs": [],
   "source": [
    "base = base.dropna()"
   ]
  },
  {
   "cell_type": "code",
   "execution_count": 105,
   "metadata": {},
   "outputs": [
    {
     "data": {
      "text/plain": [
       "(41757, 13)"
      ]
     },
     "execution_count": 105,
     "metadata": {},
     "output_type": "execute_result"
    }
   ],
   "source": [
    "base.shape"
   ]
  },
  {
   "cell_type": "code",
   "execution_count": 106,
   "metadata": {},
   "outputs": [
    {
     "data": {
      "text/plain": [
       "Index(['No', 'year', 'month', 'day', 'hour', 'pm2.5', 'DEWP', 'TEMP', 'PRES',\n",
       "       'cbwd', 'Iws', 'Is', 'Ir'],\n",
       "      dtype='object')"
      ]
     },
     "execution_count": 106,
     "metadata": {},
     "output_type": "execute_result"
    }
   ],
   "source": [
    "base.columns"
   ]
  },
  {
   "cell_type": "code",
   "execution_count": 107,
   "metadata": {},
   "outputs": [
    {
     "data": {
      "text/html": [
       "<div>\n",
       "<style scoped>\n",
       "    .dataframe tbody tr th:only-of-type {\n",
       "        vertical-align: middle;\n",
       "    }\n",
       "\n",
       "    .dataframe tbody tr th {\n",
       "        vertical-align: top;\n",
       "    }\n",
       "\n",
       "    .dataframe thead th {\n",
       "        text-align: right;\n",
       "    }\n",
       "</style>\n",
       "<table border=\"1\" class=\"dataframe\">\n",
       "  <thead>\n",
       "    <tr style=\"text-align: right;\">\n",
       "      <th></th>\n",
       "      <th>pm2.5</th>\n",
       "      <th>DEWP</th>\n",
       "      <th>TEMP</th>\n",
       "      <th>PRES</th>\n",
       "      <th>cbwd</th>\n",
       "      <th>Iws</th>\n",
       "      <th>Is</th>\n",
       "      <th>Ir</th>\n",
       "    </tr>\n",
       "  </thead>\n",
       "  <tbody>\n",
       "    <tr>\n",
       "      <th>24</th>\n",
       "      <td>129.0</td>\n",
       "      <td>-16</td>\n",
       "      <td>-4.0</td>\n",
       "      <td>1020.0</td>\n",
       "      <td>SE</td>\n",
       "      <td>1.79</td>\n",
       "      <td>0</td>\n",
       "      <td>0</td>\n",
       "    </tr>\n",
       "    <tr>\n",
       "      <th>25</th>\n",
       "      <td>148.0</td>\n",
       "      <td>-15</td>\n",
       "      <td>-4.0</td>\n",
       "      <td>1020.0</td>\n",
       "      <td>SE</td>\n",
       "      <td>2.68</td>\n",
       "      <td>0</td>\n",
       "      <td>0</td>\n",
       "    </tr>\n",
       "    <tr>\n",
       "      <th>26</th>\n",
       "      <td>159.0</td>\n",
       "      <td>-11</td>\n",
       "      <td>-5.0</td>\n",
       "      <td>1021.0</td>\n",
       "      <td>SE</td>\n",
       "      <td>3.57</td>\n",
       "      <td>0</td>\n",
       "      <td>0</td>\n",
       "    </tr>\n",
       "    <tr>\n",
       "      <th>27</th>\n",
       "      <td>181.0</td>\n",
       "      <td>-7</td>\n",
       "      <td>-5.0</td>\n",
       "      <td>1022.0</td>\n",
       "      <td>SE</td>\n",
       "      <td>5.36</td>\n",
       "      <td>1</td>\n",
       "      <td>0</td>\n",
       "    </tr>\n",
       "    <tr>\n",
       "      <th>28</th>\n",
       "      <td>138.0</td>\n",
       "      <td>-7</td>\n",
       "      <td>-5.0</td>\n",
       "      <td>1022.0</td>\n",
       "      <td>SE</td>\n",
       "      <td>6.25</td>\n",
       "      <td>2</td>\n",
       "      <td>0</td>\n",
       "    </tr>\n",
       "    <tr>\n",
       "      <th>...</th>\n",
       "      <td>...</td>\n",
       "      <td>...</td>\n",
       "      <td>...</td>\n",
       "      <td>...</td>\n",
       "      <td>...</td>\n",
       "      <td>...</td>\n",
       "      <td>...</td>\n",
       "      <td>...</td>\n",
       "    </tr>\n",
       "    <tr>\n",
       "      <th>43819</th>\n",
       "      <td>8.0</td>\n",
       "      <td>-23</td>\n",
       "      <td>-2.0</td>\n",
       "      <td>1034.0</td>\n",
       "      <td>NW</td>\n",
       "      <td>231.97</td>\n",
       "      <td>0</td>\n",
       "      <td>0</td>\n",
       "    </tr>\n",
       "    <tr>\n",
       "      <th>43820</th>\n",
       "      <td>10.0</td>\n",
       "      <td>-22</td>\n",
       "      <td>-3.0</td>\n",
       "      <td>1034.0</td>\n",
       "      <td>NW</td>\n",
       "      <td>237.78</td>\n",
       "      <td>0</td>\n",
       "      <td>0</td>\n",
       "    </tr>\n",
       "    <tr>\n",
       "      <th>43821</th>\n",
       "      <td>10.0</td>\n",
       "      <td>-22</td>\n",
       "      <td>-3.0</td>\n",
       "      <td>1034.0</td>\n",
       "      <td>NW</td>\n",
       "      <td>242.70</td>\n",
       "      <td>0</td>\n",
       "      <td>0</td>\n",
       "    </tr>\n",
       "    <tr>\n",
       "      <th>43822</th>\n",
       "      <td>8.0</td>\n",
       "      <td>-22</td>\n",
       "      <td>-4.0</td>\n",
       "      <td>1034.0</td>\n",
       "      <td>NW</td>\n",
       "      <td>246.72</td>\n",
       "      <td>0</td>\n",
       "      <td>0</td>\n",
       "    </tr>\n",
       "    <tr>\n",
       "      <th>43823</th>\n",
       "      <td>12.0</td>\n",
       "      <td>-21</td>\n",
       "      <td>-3.0</td>\n",
       "      <td>1034.0</td>\n",
       "      <td>NW</td>\n",
       "      <td>249.85</td>\n",
       "      <td>0</td>\n",
       "      <td>0</td>\n",
       "    </tr>\n",
       "  </tbody>\n",
       "</table>\n",
       "<p>41757 rows × 8 columns</p>\n",
       "</div>"
      ],
      "text/plain": [
       "       pm2.5  DEWP  TEMP    PRES cbwd     Iws  Is  Ir\n",
       "24     129.0   -16  -4.0  1020.0   SE    1.79   0   0\n",
       "25     148.0   -15  -4.0  1020.0   SE    2.68   0   0\n",
       "26     159.0   -11  -5.0  1021.0   SE    3.57   0   0\n",
       "27     181.0    -7  -5.0  1022.0   SE    5.36   1   0\n",
       "28     138.0    -7  -5.0  1022.0   SE    6.25   2   0\n",
       "...      ...   ...   ...     ...  ...     ...  ..  ..\n",
       "43819    8.0   -23  -2.0  1034.0   NW  231.97   0   0\n",
       "43820   10.0   -22  -3.0  1034.0   NW  237.78   0   0\n",
       "43821   10.0   -22  -3.0  1034.0   NW  242.70   0   0\n",
       "43822    8.0   -22  -4.0  1034.0   NW  246.72   0   0\n",
       "43823   12.0   -21  -3.0  1034.0   NW  249.85   0   0\n",
       "\n",
       "[41757 rows x 8 columns]"
      ]
     },
     "execution_count": 107,
     "metadata": {},
     "output_type": "execute_result"
    }
   ],
   "source": [
    "base = base.drop(['No', 'year', 'month', 'day', 'hour'], axis=1)\n",
    "base"
   ]
  },
  {
   "cell_type": "code",
   "execution_count": 108,
   "metadata": {},
   "outputs": [],
   "source": [
    "ant = 40\n",
    "predict = 10"
   ]
  },
  {
   "cell_type": "code",
   "execution_count": 109,
   "metadata": {},
   "outputs": [
    {
     "data": {
      "text/plain": [
       "array([[9.0, -27, 1.0, 1032.0, 'NW', 196.21, 0, 0],\n",
       "       [11.0, -26, 1.0, 1032.0, 'NW', 205.15, 0, 0],\n",
       "       [8.0, -23, 0.0, 1032.0, 'NW', 214.09, 0, 0],\n",
       "       [9.0, -22, -1.0, 1033.0, 'NW', 221.24, 0, 0],\n",
       "       [10.0, -22, -2.0, 1033.0, 'NW', 226.16, 0, 0],\n",
       "       [8.0, -23, -2.0, 1034.0, 'NW', 231.97, 0, 0],\n",
       "       [10.0, -22, -3.0, 1034.0, 'NW', 237.78, 0, 0],\n",
       "       [10.0, -22, -3.0, 1034.0, 'NW', 242.7, 0, 0],\n",
       "       [8.0, -22, -4.0, 1034.0, 'NW', 246.72, 0, 0],\n",
       "       [12.0, -21, -3.0, 1034.0, 'NW', 249.85, 0, 0]], dtype=object)"
      ]
     },
     "execution_count": 109,
     "metadata": {},
     "output_type": "execute_result"
    }
   ],
   "source": [
    "base_test = base.iloc[base.shape[0] - predict:, :].values\n",
    "base_test"
   ]
  },
  {
   "cell_type": "code",
   "execution_count": 110,
   "metadata": {},
   "outputs": [
    {
     "data": {
      "text/plain": [
       "(10, 8)"
      ]
     },
     "execution_count": 110,
     "metadata": {},
     "output_type": "execute_result"
    }
   ],
   "source": [
    "base_test.shape"
   ]
  },
  {
   "cell_type": "code",
   "execution_count": 111,
   "metadata": {},
   "outputs": [
    {
     "data": {
      "text/plain": [
       "array([[120.0, -8, -6.0, ..., 12.51, 0, 0],\n",
       "       [132.0, -7, -5.0, ..., 14.3, 0, 0],\n",
       "       [140.0, -7, -5.0, ..., 17.43, 1, 0],\n",
       "       ...,\n",
       "       [73.0, -15, 6.0, ..., 6.71, 0, 0],\n",
       "       [65.0, -14, 6.0, ..., 9.84, 0, 0],\n",
       "       [55.0, -14, 6.0, ..., 11.63, 0, 0]], dtype=object)"
      ]
     },
     "execution_count": 111,
     "metadata": {},
     "output_type": "execute_result"
    }
   ],
   "source": [
    "base_train = base.iloc[base.shape[1]:base.shape[1] - ant, :].values\n",
    "base_train"
   ]
  },
  {
   "cell_type": "code",
   "execution_count": 112,
   "metadata": {},
   "outputs": [
    {
     "data": {
      "text/plain": [
       "array(['SE', 'SE', 'SE', ..., 'SE', 'SE', 'SE'], dtype=object)"
      ]
     },
     "execution_count": 112,
     "metadata": {},
     "output_type": "execute_result"
    }
   ],
   "source": [
    "base_train[:, 4]"
   ]
  },
  {
   "cell_type": "code",
   "execution_count": 113,
   "metadata": {},
   "outputs": [],
   "source": [
    "le = LabelEncoder()\n",
    "base_train[:, 4] = le.fit_transform(base_train[:, 4])"
   ]
  },
  {
   "cell_type": "code",
   "execution_count": 114,
   "metadata": {},
   "outputs": [
    {
     "data": {
      "text/plain": [
       "array([[0.12072435],\n",
       "       [0.13279678],\n",
       "       [0.14084507],\n",
       "       ...,\n",
       "       [0.07344064],\n",
       "       [0.06539235],\n",
       "       [0.05533199]])"
      ]
     },
     "execution_count": 114,
     "metadata": {},
     "output_type": "execute_result"
    }
   ],
   "source": [
    "normalizer = MinMaxScaler(feature_range=(0, 1))\n",
    "base_train_normalized = normalizer.fit_transform(base_train)\n",
    "\n",
    "normalizerY = MinMaxScaler(feature_range=(0, 1))\n",
    "normalizerY.fit_transform(base_train[:, 0:1])"
   ]
  },
  {
   "cell_type": "code",
   "execution_count": 115,
   "metadata": {},
   "outputs": [
    {
     "data": {
      "text/plain": [
       "array([[0.12072435, 0.47058824, 0.21311475, ..., 0.02134362, 0.        ,\n",
       "        0.        ],\n",
       "       [0.13279678, 0.48529412, 0.2295082 , ..., 0.02451154, 0.        ,\n",
       "        0.        ],\n",
       "       [0.14084507, 0.48529412, 0.2295082 , ..., 0.03005097, 0.03703704,\n",
       "        0.        ],\n",
       "       ...,\n",
       "       [0.07344064, 0.36764706, 0.40983607, ..., 0.01107886, 0.        ,\n",
       "        0.        ],\n",
       "       [0.06539235, 0.38235294, 0.40983607, ..., 0.01661829, 0.        ,\n",
       "        0.        ],\n",
       "       [0.05533199, 0.38235294, 0.40983607, ..., 0.01978621, 0.        ,\n",
       "        0.        ]])"
      ]
     },
     "execution_count": 115,
     "metadata": {},
     "output_type": "execute_result"
    }
   ],
   "source": [
    "base_train_normalized"
   ]
  },
  {
   "cell_type": "code",
   "execution_count": 116,
   "metadata": {},
   "outputs": [],
   "source": [
    "x_train = []\n",
    "y_train = []\n",
    "for i in range(ant, base_train_normalized.shape[0]):\n",
    "    x_train.append(base_train_normalized[i-ant:i, 0:base_train.shape[1]])\n",
    "    y_train.append(base_train_normalized[i, 0])\n",
    "\n",
    "x_train, y_train = np.array(x_train), np.array(y_train)"
   ]
  },
  {
   "cell_type": "code",
   "execution_count": 117,
   "metadata": {},
   "outputs": [
    {
     "data": {
      "text/plain": [
       "(41677, 40, 8)"
      ]
     },
     "execution_count": 117,
     "metadata": {},
     "output_type": "execute_result"
    }
   ],
   "source": [
    "x_train.shape"
   ]
  },
  {
   "cell_type": "code",
   "execution_count": 118,
   "metadata": {},
   "outputs": [
    {
     "data": {
      "text/plain": [
       "(41677,)"
      ]
     },
     "execution_count": 118,
     "metadata": {},
     "output_type": "execute_result"
    }
   ],
   "source": [
    "y_train.shape"
   ]
  },
  {
   "cell_type": "code",
   "execution_count": 119,
   "metadata": {},
   "outputs": [],
   "source": [
    "model = Sequential()\n",
    "\n",
    "model.add(Input((x_train.shape[1], x_train.shape[2])))\n",
    "\n",
    "model.add(LSTM(units=100, return_sequences=True))\n",
    "model.add(Dropout(0.3))\n",
    "          \n",
    "model.add(LSTM(units=50, return_sequences=True))\n",
    "model.add(Dropout(0.3))\n",
    "          \n",
    "model.add(LSTM(units=50, return_sequences=True))\n",
    "model.add(Dropout(0.3))\n",
    "\n",
    "model.add(LSTM(units=50))\n",
    "model.add(Dropout(0.3))\n",
    "\n",
    "model.add(Dense(units=1, activation='linear'))"
   ]
  },
  {
   "cell_type": "code",
   "execution_count": 120,
   "metadata": {},
   "outputs": [
    {
     "data": {
      "text/html": [
       "<pre style=\"white-space:pre;overflow-x:auto;line-height:normal;font-family:Menlo,'DejaVu Sans Mono',consolas,'Courier New',monospace\"><span style=\"font-weight: bold\">Model: \"sequential_2\"</span>\n",
       "</pre>\n"
      ],
      "text/plain": [
       "\u001b[1mModel: \"sequential_2\"\u001b[0m\n"
      ]
     },
     "metadata": {},
     "output_type": "display_data"
    },
    {
     "data": {
      "text/html": [
       "<pre style=\"white-space:pre;overflow-x:auto;line-height:normal;font-family:Menlo,'DejaVu Sans Mono',consolas,'Courier New',monospace\">┏━━━━━━━━━━━━━━━━━━━━━━━━━━━━━━━━━┳━━━━━━━━━━━━━━━━━━━━━━━━┳━━━━━━━━━━━━━━━┓\n",
       "┃<span style=\"font-weight: bold\"> Layer (type)                    </span>┃<span style=\"font-weight: bold\"> Output Shape           </span>┃<span style=\"font-weight: bold\">       Param # </span>┃\n",
       "┡━━━━━━━━━━━━━━━━━━━━━━━━━━━━━━━━━╇━━━━━━━━━━━━━━━━━━━━━━━━╇━━━━━━━━━━━━━━━┩\n",
       "│ lstm_8 (<span style=\"color: #0087ff; text-decoration-color: #0087ff\">LSTM</span>)                   │ (<span style=\"color: #00d7ff; text-decoration-color: #00d7ff\">None</span>, <span style=\"color: #00af00; text-decoration-color: #00af00\">40</span>, <span style=\"color: #00af00; text-decoration-color: #00af00\">100</span>)        │        <span style=\"color: #00af00; text-decoration-color: #00af00\">43,600</span> │\n",
       "├─────────────────────────────────┼────────────────────────┼───────────────┤\n",
       "│ dropout_8 (<span style=\"color: #0087ff; text-decoration-color: #0087ff\">Dropout</span>)             │ (<span style=\"color: #00d7ff; text-decoration-color: #00d7ff\">None</span>, <span style=\"color: #00af00; text-decoration-color: #00af00\">40</span>, <span style=\"color: #00af00; text-decoration-color: #00af00\">100</span>)        │             <span style=\"color: #00af00; text-decoration-color: #00af00\">0</span> │\n",
       "├─────────────────────────────────┼────────────────────────┼───────────────┤\n",
       "│ lstm_9 (<span style=\"color: #0087ff; text-decoration-color: #0087ff\">LSTM</span>)                   │ (<span style=\"color: #00d7ff; text-decoration-color: #00d7ff\">None</span>, <span style=\"color: #00af00; text-decoration-color: #00af00\">40</span>, <span style=\"color: #00af00; text-decoration-color: #00af00\">50</span>)         │        <span style=\"color: #00af00; text-decoration-color: #00af00\">30,200</span> │\n",
       "├─────────────────────────────────┼────────────────────────┼───────────────┤\n",
       "│ dropout_9 (<span style=\"color: #0087ff; text-decoration-color: #0087ff\">Dropout</span>)             │ (<span style=\"color: #00d7ff; text-decoration-color: #00d7ff\">None</span>, <span style=\"color: #00af00; text-decoration-color: #00af00\">40</span>, <span style=\"color: #00af00; text-decoration-color: #00af00\">50</span>)         │             <span style=\"color: #00af00; text-decoration-color: #00af00\">0</span> │\n",
       "├─────────────────────────────────┼────────────────────────┼───────────────┤\n",
       "│ lstm_10 (<span style=\"color: #0087ff; text-decoration-color: #0087ff\">LSTM</span>)                  │ (<span style=\"color: #00d7ff; text-decoration-color: #00d7ff\">None</span>, <span style=\"color: #00af00; text-decoration-color: #00af00\">40</span>, <span style=\"color: #00af00; text-decoration-color: #00af00\">50</span>)         │        <span style=\"color: #00af00; text-decoration-color: #00af00\">20,200</span> │\n",
       "├─────────────────────────────────┼────────────────────────┼───────────────┤\n",
       "│ dropout_10 (<span style=\"color: #0087ff; text-decoration-color: #0087ff\">Dropout</span>)            │ (<span style=\"color: #00d7ff; text-decoration-color: #00d7ff\">None</span>, <span style=\"color: #00af00; text-decoration-color: #00af00\">40</span>, <span style=\"color: #00af00; text-decoration-color: #00af00\">50</span>)         │             <span style=\"color: #00af00; text-decoration-color: #00af00\">0</span> │\n",
       "├─────────────────────────────────┼────────────────────────┼───────────────┤\n",
       "│ lstm_11 (<span style=\"color: #0087ff; text-decoration-color: #0087ff\">LSTM</span>)                  │ (<span style=\"color: #00d7ff; text-decoration-color: #00d7ff\">None</span>, <span style=\"color: #00af00; text-decoration-color: #00af00\">50</span>)             │        <span style=\"color: #00af00; text-decoration-color: #00af00\">20,200</span> │\n",
       "├─────────────────────────────────┼────────────────────────┼───────────────┤\n",
       "│ dropout_11 (<span style=\"color: #0087ff; text-decoration-color: #0087ff\">Dropout</span>)            │ (<span style=\"color: #00d7ff; text-decoration-color: #00d7ff\">None</span>, <span style=\"color: #00af00; text-decoration-color: #00af00\">50</span>)             │             <span style=\"color: #00af00; text-decoration-color: #00af00\">0</span> │\n",
       "├─────────────────────────────────┼────────────────────────┼───────────────┤\n",
       "│ dense_2 (<span style=\"color: #0087ff; text-decoration-color: #0087ff\">Dense</span>)                 │ (<span style=\"color: #00d7ff; text-decoration-color: #00d7ff\">None</span>, <span style=\"color: #00af00; text-decoration-color: #00af00\">1</span>)              │            <span style=\"color: #00af00; text-decoration-color: #00af00\">51</span> │\n",
       "└─────────────────────────────────┴────────────────────────┴───────────────┘\n",
       "</pre>\n"
      ],
      "text/plain": [
       "┏━━━━━━━━━━━━━━━━━━━━━━━━━━━━━━━━━┳━━━━━━━━━━━━━━━━━━━━━━━━┳━━━━━━━━━━━━━━━┓\n",
       "┃\u001b[1m \u001b[0m\u001b[1mLayer (type)                   \u001b[0m\u001b[1m \u001b[0m┃\u001b[1m \u001b[0m\u001b[1mOutput Shape          \u001b[0m\u001b[1m \u001b[0m┃\u001b[1m \u001b[0m\u001b[1m      Param #\u001b[0m\u001b[1m \u001b[0m┃\n",
       "┡━━━━━━━━━━━━━━━━━━━━━━━━━━━━━━━━━╇━━━━━━━━━━━━━━━━━━━━━━━━╇━━━━━━━━━━━━━━━┩\n",
       "│ lstm_8 (\u001b[38;5;33mLSTM\u001b[0m)                   │ (\u001b[38;5;45mNone\u001b[0m, \u001b[38;5;34m40\u001b[0m, \u001b[38;5;34m100\u001b[0m)        │        \u001b[38;5;34m43,600\u001b[0m │\n",
       "├─────────────────────────────────┼────────────────────────┼───────────────┤\n",
       "│ dropout_8 (\u001b[38;5;33mDropout\u001b[0m)             │ (\u001b[38;5;45mNone\u001b[0m, \u001b[38;5;34m40\u001b[0m, \u001b[38;5;34m100\u001b[0m)        │             \u001b[38;5;34m0\u001b[0m │\n",
       "├─────────────────────────────────┼────────────────────────┼───────────────┤\n",
       "│ lstm_9 (\u001b[38;5;33mLSTM\u001b[0m)                   │ (\u001b[38;5;45mNone\u001b[0m, \u001b[38;5;34m40\u001b[0m, \u001b[38;5;34m50\u001b[0m)         │        \u001b[38;5;34m30,200\u001b[0m │\n",
       "├─────────────────────────────────┼────────────────────────┼───────────────┤\n",
       "│ dropout_9 (\u001b[38;5;33mDropout\u001b[0m)             │ (\u001b[38;5;45mNone\u001b[0m, \u001b[38;5;34m40\u001b[0m, \u001b[38;5;34m50\u001b[0m)         │             \u001b[38;5;34m0\u001b[0m │\n",
       "├─────────────────────────────────┼────────────────────────┼───────────────┤\n",
       "│ lstm_10 (\u001b[38;5;33mLSTM\u001b[0m)                  │ (\u001b[38;5;45mNone\u001b[0m, \u001b[38;5;34m40\u001b[0m, \u001b[38;5;34m50\u001b[0m)         │        \u001b[38;5;34m20,200\u001b[0m │\n",
       "├─────────────────────────────────┼────────────────────────┼───────────────┤\n",
       "│ dropout_10 (\u001b[38;5;33mDropout\u001b[0m)            │ (\u001b[38;5;45mNone\u001b[0m, \u001b[38;5;34m40\u001b[0m, \u001b[38;5;34m50\u001b[0m)         │             \u001b[38;5;34m0\u001b[0m │\n",
       "├─────────────────────────────────┼────────────────────────┼───────────────┤\n",
       "│ lstm_11 (\u001b[38;5;33mLSTM\u001b[0m)                  │ (\u001b[38;5;45mNone\u001b[0m, \u001b[38;5;34m50\u001b[0m)             │        \u001b[38;5;34m20,200\u001b[0m │\n",
       "├─────────────────────────────────┼────────────────────────┼───────────────┤\n",
       "│ dropout_11 (\u001b[38;5;33mDropout\u001b[0m)            │ (\u001b[38;5;45mNone\u001b[0m, \u001b[38;5;34m50\u001b[0m)             │             \u001b[38;5;34m0\u001b[0m │\n",
       "├─────────────────────────────────┼────────────────────────┼───────────────┤\n",
       "│ dense_2 (\u001b[38;5;33mDense\u001b[0m)                 │ (\u001b[38;5;45mNone\u001b[0m, \u001b[38;5;34m1\u001b[0m)              │            \u001b[38;5;34m51\u001b[0m │\n",
       "└─────────────────────────────────┴────────────────────────┴───────────────┘\n"
      ]
     },
     "metadata": {},
     "output_type": "display_data"
    },
    {
     "data": {
      "text/html": [
       "<pre style=\"white-space:pre;overflow-x:auto;line-height:normal;font-family:Menlo,'DejaVu Sans Mono',consolas,'Courier New',monospace\"><span style=\"font-weight: bold\"> Total params: </span><span style=\"color: #00af00; text-decoration-color: #00af00\">114,251</span> (446.29 KB)\n",
       "</pre>\n"
      ],
      "text/plain": [
       "\u001b[1m Total params: \u001b[0m\u001b[38;5;34m114,251\u001b[0m (446.29 KB)\n"
      ]
     },
     "metadata": {},
     "output_type": "display_data"
    },
    {
     "data": {
      "text/html": [
       "<pre style=\"white-space:pre;overflow-x:auto;line-height:normal;font-family:Menlo,'DejaVu Sans Mono',consolas,'Courier New',monospace\"><span style=\"font-weight: bold\"> Trainable params: </span><span style=\"color: #00af00; text-decoration-color: #00af00\">114,251</span> (446.29 KB)\n",
       "</pre>\n"
      ],
      "text/plain": [
       "\u001b[1m Trainable params: \u001b[0m\u001b[38;5;34m114,251\u001b[0m (446.29 KB)\n"
      ]
     },
     "metadata": {},
     "output_type": "display_data"
    },
    {
     "data": {
      "text/html": [
       "<pre style=\"white-space:pre;overflow-x:auto;line-height:normal;font-family:Menlo,'DejaVu Sans Mono',consolas,'Courier New',monospace\"><span style=\"font-weight: bold\"> Non-trainable params: </span><span style=\"color: #00af00; text-decoration-color: #00af00\">0</span> (0.00 B)\n",
       "</pre>\n"
      ],
      "text/plain": [
       "\u001b[1m Non-trainable params: \u001b[0m\u001b[38;5;34m0\u001b[0m (0.00 B)\n"
      ]
     },
     "metadata": {},
     "output_type": "display_data"
    }
   ],
   "source": [
    "model.summary()"
   ]
  },
  {
   "cell_type": "code",
   "execution_count": 121,
   "metadata": {},
   "outputs": [],
   "source": [
    "model.compile(optimizer='adam', loss='mean_squared_error', metrics=['mean_absolute_error'])"
   ]
  },
  {
   "cell_type": "code",
   "execution_count": 122,
   "metadata": {},
   "outputs": [],
   "source": [
    "early_stop = EarlyStopping(\n",
    "    monitor='loss',\n",
    "    patience=10,\n",
    "    verbose=True\n",
    ")\n",
    "\n",
    "reduce_plateau = ReduceLROnPlateau(\n",
    "    monitor='loss',\n",
    "    factor=0.2,\n",
    "    patience=5,\n",
    "    verbose=1,\n",
    ")\n",
    "\n",
    "model_checkpoint = ModelCheckpoint(\n",
    "    filepath='checkpoints/weights_poluicao.keras',\n",
    "    monitor='loss',\n",
    "    save_best_only=True,\n",
    "    verbose=1\n",
    ")"
   ]
  },
  {
   "cell_type": "code",
   "execution_count": 123,
   "metadata": {},
   "outputs": [
    {
     "name": "stdout",
     "output_type": "stream",
     "text": [
      "Epoch 1/100\n",
      "\u001b[1m1303/1303\u001b[0m \u001b[32m━━━━━━━━━━━━━━━━━━━━\u001b[0m\u001b[37m\u001b[0m \u001b[1m0s\u001b[0m 73ms/step - loss: 0.0041 - mean_absolute_error: 0.0442\n",
      "Epoch 1: loss improved from inf to 0.00275, saving model to checkpoints/weights_poluicao.keras\n",
      "\u001b[1m1303/1303\u001b[0m \u001b[32m━━━━━━━━━━━━━━━━━━━━\u001b[0m\u001b[37m\u001b[0m \u001b[1m108s\u001b[0m 73ms/step - loss: 0.0041 - mean_absolute_error: 0.0442 - learning_rate: 0.0010\n",
      "Epoch 2/100\n",
      "\u001b[1m1303/1303\u001b[0m \u001b[32m━━━━━━━━━━━━━━━━━━━━\u001b[0m\u001b[37m\u001b[0m \u001b[1m0s\u001b[0m 72ms/step - loss: 0.0014 - mean_absolute_error: 0.0247\n",
      "Epoch 2: loss improved from 0.00275 to 0.00118, saving model to checkpoints/weights_poluicao.keras\n",
      "\u001b[1m1303/1303\u001b[0m \u001b[32m━━━━━━━━━━━━━━━━━━━━\u001b[0m\u001b[37m\u001b[0m \u001b[1m141s\u001b[0m 72ms/step - loss: 0.0014 - mean_absolute_error: 0.0247 - learning_rate: 0.0010\n",
      "Epoch 3/100\n",
      "\u001b[1m1303/1303\u001b[0m \u001b[32m━━━━━━━━━━━━━━━━━━━━\u001b[0m\u001b[37m\u001b[0m \u001b[1m0s\u001b[0m 72ms/step - loss: 8.9197e-04 - mean_absolute_error: 0.0198\n",
      "Epoch 3: loss improved from 0.00118 to 0.00091, saving model to checkpoints/weights_poluicao.keras\n",
      "\u001b[1m1303/1303\u001b[0m \u001b[32m━━━━━━━━━━━━━━━━━━━━\u001b[0m\u001b[37m\u001b[0m \u001b[1m94s\u001b[0m 72ms/step - loss: 8.9198e-04 - mean_absolute_error: 0.0198 - learning_rate: 0.0010\n",
      "Epoch 4/100\n",
      "\u001b[1m1303/1303\u001b[0m \u001b[32m━━━━━━━━━━━━━━━━━━━━\u001b[0m\u001b[37m\u001b[0m \u001b[1m0s\u001b[0m 72ms/step - loss: 8.5711e-04 - mean_absolute_error: 0.0192\n",
      "Epoch 4: loss improved from 0.00091 to 0.00085, saving model to checkpoints/weights_poluicao.keras\n",
      "\u001b[1m1303/1303\u001b[0m \u001b[32m━━━━━━━━━━━━━━━━━━━━\u001b[0m\u001b[37m\u001b[0m \u001b[1m94s\u001b[0m 72ms/step - loss: 8.5710e-04 - mean_absolute_error: 0.0192 - learning_rate: 0.0010\n",
      "Epoch 5/100\n",
      "\u001b[1m1303/1303\u001b[0m \u001b[32m━━━━━━━━━━━━━━━━━━━━\u001b[0m\u001b[37m\u001b[0m \u001b[1m0s\u001b[0m 73ms/step - loss: 8.4000e-04 - mean_absolute_error: 0.0185\n",
      "Epoch 5: loss improved from 0.00085 to 0.00082, saving model to checkpoints/weights_poluicao.keras\n",
      "\u001b[1m1303/1303\u001b[0m \u001b[32m━━━━━━━━━━━━━━━━━━━━\u001b[0m\u001b[37m\u001b[0m \u001b[1m96s\u001b[0m 73ms/step - loss: 8.3998e-04 - mean_absolute_error: 0.0185 - learning_rate: 0.0010\n",
      "Epoch 6/100\n",
      "\u001b[1m1303/1303\u001b[0m \u001b[32m━━━━━━━━━━━━━━━━━━━━\u001b[0m\u001b[37m\u001b[0m \u001b[1m0s\u001b[0m 74ms/step - loss: 7.9694e-04 - mean_absolute_error: 0.0181\n",
      "Epoch 6: loss improved from 0.00082 to 0.00081, saving model to checkpoints/weights_poluicao.keras\n",
      "\u001b[1m1303/1303\u001b[0m \u001b[32m━━━━━━━━━━━━━━━━━━━━\u001b[0m\u001b[37m\u001b[0m \u001b[1m143s\u001b[0m 74ms/step - loss: 7.9695e-04 - mean_absolute_error: 0.0181 - learning_rate: 0.0010\n",
      "Epoch 7/100\n",
      "\u001b[1m1303/1303\u001b[0m \u001b[32m━━━━━━━━━━━━━━━━━━━━\u001b[0m\u001b[37m\u001b[0m \u001b[1m0s\u001b[0m 75ms/step - loss: 8.0661e-04 - mean_absolute_error: 0.0177\n",
      "Epoch 7: loss improved from 0.00081 to 0.00079, saving model to checkpoints/weights_poluicao.keras\n",
      "\u001b[1m1303/1303\u001b[0m \u001b[32m━━━━━━━━━━━━━━━━━━━━\u001b[0m\u001b[37m\u001b[0m \u001b[1m143s\u001b[0m 75ms/step - loss: 8.0659e-04 - mean_absolute_error: 0.0177 - learning_rate: 0.0010\n",
      "Epoch 8/100\n",
      "\u001b[1m1303/1303\u001b[0m \u001b[32m━━━━━━━━━━━━━━━━━━━━\u001b[0m\u001b[37m\u001b[0m \u001b[1m0s\u001b[0m 74ms/step - loss: 8.0144e-04 - mean_absolute_error: 0.0175\n",
      "Epoch 8: loss improved from 0.00079 to 0.00076, saving model to checkpoints/weights_poluicao.keras\n",
      "\u001b[1m1303/1303\u001b[0m \u001b[32m━━━━━━━━━━━━━━━━━━━━\u001b[0m\u001b[37m\u001b[0m \u001b[1m96s\u001b[0m 74ms/step - loss: 8.0141e-04 - mean_absolute_error: 0.0175 - learning_rate: 0.0010\n",
      "Epoch 9/100\n",
      "\u001b[1m1303/1303\u001b[0m \u001b[32m━━━━━━━━━━━━━━━━━━━━\u001b[0m\u001b[37m\u001b[0m \u001b[1m0s\u001b[0m 74ms/step - loss: 8.1946e-04 - mean_absolute_error: 0.0178\n",
      "Epoch 9: loss did not improve from 0.00076\n",
      "\u001b[1m1303/1303\u001b[0m \u001b[32m━━━━━━━━━━━━━━━━━━━━\u001b[0m\u001b[37m\u001b[0m \u001b[1m96s\u001b[0m 74ms/step - loss: 8.1943e-04 - mean_absolute_error: 0.0178 - learning_rate: 0.0010\n",
      "Epoch 10/100\n",
      "\u001b[1m1303/1303\u001b[0m \u001b[32m━━━━━━━━━━━━━━━━━━━━\u001b[0m\u001b[37m\u001b[0m \u001b[1m0s\u001b[0m 76ms/step - loss: 7.2395e-04 - mean_absolute_error: 0.0173\n",
      "Epoch 10: loss improved from 0.00076 to 0.00075, saving model to checkpoints/weights_poluicao.keras\n",
      "\u001b[1m1303/1303\u001b[0m \u001b[32m━━━━━━━━━━━━━━━━━━━━\u001b[0m\u001b[37m\u001b[0m \u001b[1m99s\u001b[0m 76ms/step - loss: 7.2397e-04 - mean_absolute_error: 0.0173 - learning_rate: 0.0010\n",
      "Epoch 11/100\n",
      "\u001b[1m1303/1303\u001b[0m \u001b[32m━━━━━━━━━━━━━━━━━━━━\u001b[0m\u001b[37m\u001b[0m \u001b[1m0s\u001b[0m 75ms/step - loss: 7.9140e-04 - mean_absolute_error: 0.0175\n",
      "Epoch 11: ReduceLROnPlateau reducing learning rate to 0.00020000000949949026.\n",
      "\n",
      "Epoch 11: loss did not improve from 0.00075\n",
      "\u001b[1m1303/1303\u001b[0m \u001b[32m━━━━━━━━━━━━━━━━━━━━\u001b[0m\u001b[37m\u001b[0m \u001b[1m98s\u001b[0m 75ms/step - loss: 7.9138e-04 - mean_absolute_error: 0.0175 - learning_rate: 0.0010\n",
      "Epoch 12/100\n",
      "\u001b[1m1303/1303\u001b[0m \u001b[32m━━━━━━━━━━━━━━━━━━━━\u001b[0m\u001b[37m\u001b[0m \u001b[1m0s\u001b[0m 74ms/step - loss: 6.7202e-04 - mean_absolute_error: 0.0161\n",
      "Epoch 12: loss improved from 0.00075 to 0.00068, saving model to checkpoints/weights_poluicao.keras\n",
      "\u001b[1m1303/1303\u001b[0m \u001b[32m━━━━━━━━━━━━━━━━━━━━\u001b[0m\u001b[37m\u001b[0m \u001b[1m96s\u001b[0m 74ms/step - loss: 6.7203e-04 - mean_absolute_error: 0.0161 - learning_rate: 2.0000e-04\n",
      "Epoch 13/100\n",
      "\u001b[1m1303/1303\u001b[0m \u001b[32m━━━━━━━━━━━━━━━━━━━━\u001b[0m\u001b[37m\u001b[0m \u001b[1m0s\u001b[0m 75ms/step - loss: 6.8222e-04 - mean_absolute_error: 0.0158\n",
      "Epoch 13: loss improved from 0.00068 to 0.00067, saving model to checkpoints/weights_poluicao.keras\n",
      "\u001b[1m1303/1303\u001b[0m \u001b[32m━━━━━━━━━━━━━━━━━━━━\u001b[0m\u001b[37m\u001b[0m \u001b[1m98s\u001b[0m 75ms/step - loss: 6.8222e-04 - mean_absolute_error: 0.0158 - learning_rate: 2.0000e-04\n",
      "Epoch 14/100\n",
      "\u001b[1m1303/1303\u001b[0m \u001b[32m━━━━━━━━━━━━━━━━━━━━\u001b[0m\u001b[37m\u001b[0m \u001b[1m0s\u001b[0m 75ms/step - loss: 6.7428e-04 - mean_absolute_error: 0.0157\n",
      "Epoch 14: loss did not improve from 0.00067\n",
      "\u001b[1m1303/1303\u001b[0m \u001b[32m━━━━━━━━━━━━━━━━━━━━\u001b[0m\u001b[37m\u001b[0m \u001b[1m142s\u001b[0m 75ms/step - loss: 6.7427e-04 - mean_absolute_error: 0.0157 - learning_rate: 2.0000e-04\n",
      "Epoch 15/100\n",
      "\u001b[1m1303/1303\u001b[0m \u001b[32m━━━━━━━━━━━━━━━━━━━━\u001b[0m\u001b[37m\u001b[0m \u001b[1m0s\u001b[0m 74ms/step - loss: 6.5701e-04 - mean_absolute_error: 0.0156\n",
      "Epoch 15: loss improved from 0.00067 to 0.00067, saving model to checkpoints/weights_poluicao.keras\n",
      "\u001b[1m1303/1303\u001b[0m \u001b[32m━━━━━━━━━━━━━━━━━━━━\u001b[0m\u001b[37m\u001b[0m \u001b[1m97s\u001b[0m 74ms/step - loss: 6.5701e-04 - mean_absolute_error: 0.0156 - learning_rate: 2.0000e-04\n",
      "Epoch 16/100\n",
      "\u001b[1m1303/1303\u001b[0m \u001b[32m━━━━━━━━━━━━━━━━━━━━\u001b[0m\u001b[37m\u001b[0m \u001b[1m0s\u001b[0m 75ms/step - loss: 6.6020e-04 - mean_absolute_error: 0.0158\n",
      "Epoch 16: loss improved from 0.00067 to 0.00067, saving model to checkpoints/weights_poluicao.keras\n",
      "\u001b[1m1303/1303\u001b[0m \u001b[32m━━━━━━━━━━━━━━━━━━━━\u001b[0m\u001b[37m\u001b[0m \u001b[1m143s\u001b[0m 75ms/step - loss: 6.6020e-04 - mean_absolute_error: 0.0158 - learning_rate: 2.0000e-04\n",
      "Epoch 17/100\n",
      "\u001b[1m1303/1303\u001b[0m \u001b[32m━━━━━━━━━━━━━━━━━━━━\u001b[0m\u001b[37m\u001b[0m \u001b[1m0s\u001b[0m 74ms/step - loss: 6.5767e-04 - mean_absolute_error: 0.0159\n",
      "Epoch 17: ReduceLROnPlateau reducing learning rate to 4.0000001899898055e-05.\n",
      "\n",
      "Epoch 17: loss did not improve from 0.00067\n",
      "\u001b[1m1303/1303\u001b[0m \u001b[32m━━━━━━━━━━━━━━━━━━━━\u001b[0m\u001b[37m\u001b[0m \u001b[1m97s\u001b[0m 74ms/step - loss: 6.5768e-04 - mean_absolute_error: 0.0159 - learning_rate: 2.0000e-04\n",
      "Epoch 18/100\n",
      "\u001b[1m1303/1303\u001b[0m \u001b[32m━━━━━━━━━━━━━━━━━━━━\u001b[0m\u001b[37m\u001b[0m \u001b[1m0s\u001b[0m 76ms/step - loss: 6.6449e-04 - mean_absolute_error: 0.0154\n",
      "Epoch 18: loss improved from 0.00067 to 0.00066, saving model to checkpoints/weights_poluicao.keras\n",
      "\u001b[1m1303/1303\u001b[0m \u001b[32m━━━━━━━━━━━━━━━━━━━━\u001b[0m\u001b[37m\u001b[0m \u001b[1m99s\u001b[0m 76ms/step - loss: 6.6449e-04 - mean_absolute_error: 0.0154 - learning_rate: 4.0000e-05\n",
      "Epoch 19/100\n",
      "\u001b[1m1303/1303\u001b[0m \u001b[32m━━━━━━━━━━━━━━━━━━━━\u001b[0m\u001b[37m\u001b[0m \u001b[1m0s\u001b[0m 76ms/step - loss: 6.1948e-04 - mean_absolute_error: 0.0154\n",
      "Epoch 19: loss improved from 0.00066 to 0.00066, saving model to checkpoints/weights_poluicao.keras\n",
      "\u001b[1m1303/1303\u001b[0m \u001b[32m━━━━━━━━━━━━━━━━━━━━\u001b[0m\u001b[37m\u001b[0m \u001b[1m99s\u001b[0m 76ms/step - loss: 6.1951e-04 - mean_absolute_error: 0.0154 - learning_rate: 4.0000e-05\n",
      "Epoch 20/100\n",
      "\u001b[1m1303/1303\u001b[0m \u001b[32m━━━━━━━━━━━━━━━━━━━━\u001b[0m\u001b[37m\u001b[0m \u001b[1m0s\u001b[0m 75ms/step - loss: 7.0827e-04 - mean_absolute_error: 0.0157\n",
      "Epoch 20: loss improved from 0.00066 to 0.00065, saving model to checkpoints/weights_poluicao.keras\n",
      "\u001b[1m1303/1303\u001b[0m \u001b[32m━━━━━━━━━━━━━━━━━━━━\u001b[0m\u001b[37m\u001b[0m \u001b[1m141s\u001b[0m 75ms/step - loss: 7.0823e-04 - mean_absolute_error: 0.0157 - learning_rate: 4.0000e-05\n",
      "Epoch 21/100\n",
      "\u001b[1m1303/1303\u001b[0m \u001b[32m━━━━━━━━━━━━━━━━━━━━\u001b[0m\u001b[37m\u001b[0m \u001b[1m0s\u001b[0m 75ms/step - loss: 6.2998e-04 - mean_absolute_error: 0.0153\n",
      "Epoch 21: loss improved from 0.00065 to 0.00065, saving model to checkpoints/weights_poluicao.keras\n",
      "\u001b[1m1303/1303\u001b[0m \u001b[32m━━━━━━━━━━━━━━━━━━━━\u001b[0m\u001b[37m\u001b[0m \u001b[1m98s\u001b[0m 75ms/step - loss: 6.3000e-04 - mean_absolute_error: 0.0153 - learning_rate: 4.0000e-05\n",
      "Epoch 22/100\n",
      "\u001b[1m1303/1303\u001b[0m \u001b[32m━━━━━━━━━━━━━━━━━━━━\u001b[0m\u001b[37m\u001b[0m \u001b[1m0s\u001b[0m 76ms/step - loss: 6.5720e-04 - mean_absolute_error: 0.0153\n",
      "Epoch 22: ReduceLROnPlateau reducing learning rate to 8.000000525498762e-06.\n",
      "\n",
      "Epoch 22: loss improved from 0.00065 to 0.00065, saving model to checkpoints/weights_poluicao.keras\n",
      "\u001b[1m1303/1303\u001b[0m \u001b[32m━━━━━━━━━━━━━━━━━━━━\u001b[0m\u001b[37m\u001b[0m \u001b[1m100s\u001b[0m 76ms/step - loss: 6.5719e-04 - mean_absolute_error: 0.0153 - learning_rate: 4.0000e-05\n",
      "Epoch 23/100\n",
      "\u001b[1m1303/1303\u001b[0m \u001b[32m━━━━━━━━━━━━━━━━━━━━\u001b[0m\u001b[37m\u001b[0m \u001b[1m0s\u001b[0m 75ms/step - loss: 6.4901e-04 - mean_absolute_error: 0.0155\n",
      "Epoch 23: loss did not improve from 0.00065\n",
      "\u001b[1m1303/1303\u001b[0m \u001b[32m━━━━━━━━━━━━━━━━━━━━\u001b[0m\u001b[37m\u001b[0m \u001b[1m141s\u001b[0m 75ms/step - loss: 6.4901e-04 - mean_absolute_error: 0.0155 - learning_rate: 8.0000e-06\n",
      "Epoch 24/100\n",
      "\u001b[1m1303/1303\u001b[0m \u001b[32m━━━━━━━━━━━━━━━━━━━━\u001b[0m\u001b[37m\u001b[0m \u001b[1m0s\u001b[0m 75ms/step - loss: 6.4400e-04 - mean_absolute_error: 0.0154\n",
      "Epoch 24: loss improved from 0.00065 to 0.00065, saving model to checkpoints/weights_poluicao.keras\n",
      "\u001b[1m1303/1303\u001b[0m \u001b[32m━━━━━━━━━━━━━━━━━━━━\u001b[0m\u001b[37m\u001b[0m \u001b[1m98s\u001b[0m 76ms/step - loss: 6.4400e-04 - mean_absolute_error: 0.0154 - learning_rate: 8.0000e-06\n",
      "Epoch 25/100\n",
      "\u001b[1m1303/1303\u001b[0m \u001b[32m━━━━━━━━━━━━━━━━━━━━\u001b[0m\u001b[37m\u001b[0m \u001b[1m0s\u001b[0m 75ms/step - loss: 6.4433e-04 - mean_absolute_error: 0.0154\n",
      "Epoch 25: loss did not improve from 0.00065\n",
      "\u001b[1m1303/1303\u001b[0m \u001b[32m━━━━━━━━━━━━━━━━━━━━\u001b[0m\u001b[37m\u001b[0m \u001b[1m98s\u001b[0m 75ms/step - loss: 6.4433e-04 - mean_absolute_error: 0.0154 - learning_rate: 8.0000e-06\n",
      "Epoch 26/100\n",
      "\u001b[1m1303/1303\u001b[0m \u001b[32m━━━━━━━━━━━━━━━━━━━━\u001b[0m\u001b[37m\u001b[0m \u001b[1m0s\u001b[0m 75ms/step - loss: 6.7254e-04 - mean_absolute_error: 0.0155\n",
      "Epoch 26: loss did not improve from 0.00065\n",
      "\u001b[1m1303/1303\u001b[0m \u001b[32m━━━━━━━━━━━━━━━━━━━━\u001b[0m\u001b[37m\u001b[0m \u001b[1m97s\u001b[0m 75ms/step - loss: 6.7252e-04 - mean_absolute_error: 0.0155 - learning_rate: 8.0000e-06\n",
      "Epoch 27/100\n",
      "\u001b[1m1303/1303\u001b[0m \u001b[32m━━━━━━━━━━━━━━━━━━━━\u001b[0m\u001b[37m\u001b[0m \u001b[1m0s\u001b[0m 75ms/step - loss: 6.2787e-04 - mean_absolute_error: 0.0153\n",
      "Epoch 27: ReduceLROnPlateau reducing learning rate to 1.6000001778593287e-06.\n",
      "\n",
      "Epoch 27: loss improved from 0.00065 to 0.00064, saving model to checkpoints/weights_poluicao.keras\n",
      "\u001b[1m1303/1303\u001b[0m \u001b[32m━━━━━━━━━━━━━━━━━━━━\u001b[0m\u001b[37m\u001b[0m \u001b[1m98s\u001b[0m 75ms/step - loss: 6.2788e-04 - mean_absolute_error: 0.0153 - learning_rate: 8.0000e-06\n",
      "Epoch 28/100\n",
      "\u001b[1m1303/1303\u001b[0m \u001b[32m━━━━━━━━━━━━━━━━━━━━\u001b[0m\u001b[37m\u001b[0m \u001b[1m0s\u001b[0m 75ms/step - loss: 6.0481e-04 - mean_absolute_error: 0.0153\n",
      "Epoch 28: loss did not improve from 0.00064\n",
      "\u001b[1m1303/1303\u001b[0m \u001b[32m━━━━━━━━━━━━━━━━━━━━\u001b[0m\u001b[37m\u001b[0m \u001b[1m98s\u001b[0m 75ms/step - loss: 6.0485e-04 - mean_absolute_error: 0.0153 - learning_rate: 1.6000e-06\n",
      "Epoch 29/100\n",
      "\u001b[1m1303/1303\u001b[0m \u001b[32m━━━━━━━━━━━━━━━━━━━━\u001b[0m\u001b[37m\u001b[0m \u001b[1m0s\u001b[0m 75ms/step - loss: 6.6163e-04 - mean_absolute_error: 0.0155\n",
      "Epoch 29: loss improved from 0.00064 to 0.00064, saving model to checkpoints/weights_poluicao.keras\n",
      "\u001b[1m1303/1303\u001b[0m \u001b[32m━━━━━━━━━━━━━━━━━━━━\u001b[0m\u001b[37m\u001b[0m \u001b[1m97s\u001b[0m 75ms/step - loss: 6.6161e-04 - mean_absolute_error: 0.0155 - learning_rate: 1.6000e-06\n",
      "Epoch 30/100\n",
      "\u001b[1m1303/1303\u001b[0m \u001b[32m━━━━━━━━━━━━━━━━━━━━\u001b[0m\u001b[37m\u001b[0m \u001b[1m0s\u001b[0m 76ms/step - loss: 6.5050e-04 - mean_absolute_error: 0.0153\n",
      "Epoch 30: loss did not improve from 0.00064\n",
      "\u001b[1m1303/1303\u001b[0m \u001b[32m━━━━━━━━━━━━━━━━━━━━\u001b[0m\u001b[37m\u001b[0m \u001b[1m99s\u001b[0m 76ms/step - loss: 6.5050e-04 - mean_absolute_error: 0.0153 - learning_rate: 1.6000e-06\n",
      "Epoch 31/100\n",
      "\u001b[1m1303/1303\u001b[0m \u001b[32m━━━━━━━━━━━━━━━━━━━━\u001b[0m\u001b[37m\u001b[0m \u001b[1m0s\u001b[0m 76ms/step - loss: 6.2733e-04 - mean_absolute_error: 0.0151\n",
      "Epoch 31: loss improved from 0.00064 to 0.00064, saving model to checkpoints/weights_poluicao.keras\n",
      "\u001b[1m1303/1303\u001b[0m \u001b[32m━━━━━━━━━━━━━━━━━━━━\u001b[0m\u001b[37m\u001b[0m \u001b[1m142s\u001b[0m 76ms/step - loss: 6.2734e-04 - mean_absolute_error: 0.0151 - learning_rate: 1.6000e-06\n",
      "Epoch 32/100\n",
      "\u001b[1m1303/1303\u001b[0m \u001b[32m━━━━━━━━━━━━━━━━━━━━\u001b[0m\u001b[37m\u001b[0m \u001b[1m0s\u001b[0m 76ms/step - loss: 6.0968e-04 - mean_absolute_error: 0.0152\n",
      "Epoch 32: ReduceLROnPlateau reducing learning rate to 3.200000264769187e-07.\n",
      "\n",
      "Epoch 32: loss did not improve from 0.00064\n",
      "\u001b[1m1303/1303\u001b[0m \u001b[32m━━━━━━━━━━━━━━━━━━━━\u001b[0m\u001b[37m\u001b[0m \u001b[1m99s\u001b[0m 76ms/step - loss: 6.0971e-04 - mean_absolute_error: 0.0152 - learning_rate: 1.6000e-06\n",
      "Epoch 33/100\n",
      "\u001b[1m1303/1303\u001b[0m \u001b[32m━━━━━━━━━━━━━━━━━━━━\u001b[0m\u001b[37m\u001b[0m \u001b[1m0s\u001b[0m 75ms/step - loss: 6.3686e-04 - mean_absolute_error: 0.0152\n",
      "Epoch 33: loss improved from 0.00064 to 0.00064, saving model to checkpoints/weights_poluicao.keras\n",
      "\u001b[1m1303/1303\u001b[0m \u001b[32m━━━━━━━━━━━━━━━━━━━━\u001b[0m\u001b[37m\u001b[0m \u001b[1m98s\u001b[0m 75ms/step - loss: 6.3686e-04 - mean_absolute_error: 0.0152 - learning_rate: 3.2000e-07\n",
      "Epoch 34/100\n",
      "\u001b[1m1303/1303\u001b[0m \u001b[32m━━━━━━━━━━━━━━━━━━━━\u001b[0m\u001b[37m\u001b[0m \u001b[1m0s\u001b[0m 76ms/step - loss: 6.4872e-04 - mean_absolute_error: 0.0152\n",
      "Epoch 34: loss did not improve from 0.00064\n",
      "\u001b[1m1303/1303\u001b[0m \u001b[32m━━━━━━━━━━━━━━━━━━━━\u001b[0m\u001b[37m\u001b[0m \u001b[1m99s\u001b[0m 76ms/step - loss: 6.4872e-04 - mean_absolute_error: 0.0152 - learning_rate: 3.2000e-07\n",
      "Epoch 35/100\n",
      "\u001b[1m1303/1303\u001b[0m \u001b[32m━━━━━━━━━━━━━━━━━━━━\u001b[0m\u001b[37m\u001b[0m \u001b[1m0s\u001b[0m 76ms/step - loss: 6.2045e-04 - mean_absolute_error: 0.0154\n",
      "Epoch 35: loss improved from 0.00064 to 0.00063, saving model to checkpoints/weights_poluicao.keras\n",
      "\u001b[1m1303/1303\u001b[0m \u001b[32m━━━━━━━━━━━━━━━━━━━━\u001b[0m\u001b[37m\u001b[0m \u001b[1m99s\u001b[0m 76ms/step - loss: 6.2046e-04 - mean_absolute_error: 0.0154 - learning_rate: 3.2000e-07\n",
      "Epoch 36/100\n",
      "\u001b[1m1303/1303\u001b[0m \u001b[32m━━━━━━━━━━━━━━━━━━━━\u001b[0m\u001b[37m\u001b[0m \u001b[1m0s\u001b[0m 76ms/step - loss: 6.3029e-04 - mean_absolute_error: 0.0152\n",
      "Epoch 36: loss did not improve from 0.00063\n",
      "\u001b[1m1303/1303\u001b[0m \u001b[32m━━━━━━━━━━━━━━━━━━━━\u001b[0m\u001b[37m\u001b[0m \u001b[1m98s\u001b[0m 76ms/step - loss: 6.3030e-04 - mean_absolute_error: 0.0152 - learning_rate: 3.2000e-07\n",
      "Epoch 37/100\n",
      "\u001b[1m1303/1303\u001b[0m \u001b[32m━━━━━━━━━━━━━━━━━━━━\u001b[0m\u001b[37m\u001b[0m \u001b[1m0s\u001b[0m 75ms/step - loss: 6.3003e-04 - mean_absolute_error: 0.0152\n",
      "Epoch 37: ReduceLROnPlateau reducing learning rate to 6.400000529538374e-08.\n",
      "\n",
      "Epoch 37: loss did not improve from 0.00063\n",
      "\u001b[1m1303/1303\u001b[0m \u001b[32m━━━━━━━━━━━━━━━━━━━━\u001b[0m\u001b[37m\u001b[0m \u001b[1m98s\u001b[0m 75ms/step - loss: 6.3005e-04 - mean_absolute_error: 0.0152 - learning_rate: 3.2000e-07\n",
      "Epoch 38/100\n",
      "\u001b[1m1303/1303\u001b[0m \u001b[32m━━━━━━━━━━━━━━━━━━━━\u001b[0m\u001b[37m\u001b[0m \u001b[1m0s\u001b[0m 75ms/step - loss: 6.3722e-04 - mean_absolute_error: 0.0154\n",
      "Epoch 38: loss did not improve from 0.00063\n",
      "\u001b[1m1303/1303\u001b[0m \u001b[32m━━━━━━━━━━━━━━━━━━━━\u001b[0m\u001b[37m\u001b[0m \u001b[1m98s\u001b[0m 75ms/step - loss: 6.3723e-04 - mean_absolute_error: 0.0154 - learning_rate: 6.4000e-08\n",
      "Epoch 39/100\n",
      "\u001b[1m1303/1303\u001b[0m \u001b[32m━━━━━━━━━━━━━━━━━━━━\u001b[0m\u001b[37m\u001b[0m \u001b[1m0s\u001b[0m 76ms/step - loss: 6.4673e-04 - mean_absolute_error: 0.0153\n",
      "Epoch 39: loss did not improve from 0.00063\n",
      "\u001b[1m1303/1303\u001b[0m \u001b[32m━━━━━━━━━━━━━━━━━━━━\u001b[0m\u001b[37m\u001b[0m \u001b[1m143s\u001b[0m 76ms/step - loss: 6.4673e-04 - mean_absolute_error: 0.0153 - learning_rate: 6.4000e-08\n",
      "Epoch 40/100\n",
      "\u001b[1m1303/1303\u001b[0m \u001b[32m━━━━━━━━━━━━━━━━━━━━\u001b[0m\u001b[37m\u001b[0m \u001b[1m0s\u001b[0m 76ms/step - loss: 6.0750e-04 - mean_absolute_error: 0.0152\n",
      "Epoch 40: loss did not improve from 0.00063\n",
      "\u001b[1m1303/1303\u001b[0m \u001b[32m━━━━━━━━━━━━━━━━━━━━\u001b[0m\u001b[37m\u001b[0m \u001b[1m99s\u001b[0m 76ms/step - loss: 6.0752e-04 - mean_absolute_error: 0.0152 - learning_rate: 6.4000e-08\n",
      "Epoch 41/100\n",
      "\u001b[1m1303/1303\u001b[0m \u001b[32m━━━━━━━━━━━━━━━━━━━━\u001b[0m\u001b[37m\u001b[0m \u001b[1m0s\u001b[0m 78ms/step - loss: 6.3957e-04 - mean_absolute_error: 0.0153\n",
      "Epoch 41: loss did not improve from 0.00063\n",
      "\u001b[1m1303/1303\u001b[0m \u001b[32m━━━━━━━━━━━━━━━━━━━━\u001b[0m\u001b[37m\u001b[0m \u001b[1m101s\u001b[0m 78ms/step - loss: 6.3957e-04 - mean_absolute_error: 0.0153 - learning_rate: 6.4000e-08\n",
      "Epoch 42/100\n",
      "\u001b[1m1303/1303\u001b[0m \u001b[32m━━━━━━━━━━━━━━━━━━━━\u001b[0m\u001b[37m\u001b[0m \u001b[1m0s\u001b[0m 76ms/step - loss: 6.7526e-04 - mean_absolute_error: 0.0154\n",
      "Epoch 42: ReduceLROnPlateau reducing learning rate to 1.2800001059076749e-08.\n",
      "\n",
      "Epoch 42: loss did not improve from 0.00063\n",
      "\u001b[1m1303/1303\u001b[0m \u001b[32m━━━━━━━━━━━━━━━━━━━━\u001b[0m\u001b[37m\u001b[0m \u001b[1m99s\u001b[0m 76ms/step - loss: 6.7523e-04 - mean_absolute_error: 0.0154 - learning_rate: 6.4000e-08\n",
      "Epoch 43/100\n",
      "\u001b[1m1303/1303\u001b[0m \u001b[32m━━━━━━━━━━━━━━━━━━━━\u001b[0m\u001b[37m\u001b[0m \u001b[1m0s\u001b[0m 75ms/step - loss: 6.6132e-04 - mean_absolute_error: 0.0152\n",
      "Epoch 43: loss did not improve from 0.00063\n",
      "\u001b[1m1303/1303\u001b[0m \u001b[32m━━━━━━━━━━━━━━━━━━━━\u001b[0m\u001b[37m\u001b[0m \u001b[1m98s\u001b[0m 75ms/step - loss: 6.6130e-04 - mean_absolute_error: 0.0152 - learning_rate: 1.2800e-08\n",
      "Epoch 44/100\n",
      "\u001b[1m1303/1303\u001b[0m \u001b[32m━━━━━━━━━━━━━━━━━━━━\u001b[0m\u001b[37m\u001b[0m \u001b[1m0s\u001b[0m 76ms/step - loss: 6.5916e-04 - mean_absolute_error: 0.0154\n",
      "Epoch 44: loss did not improve from 0.00063\n",
      "\u001b[1m1303/1303\u001b[0m \u001b[32m━━━━━━━━━━━━━━━━━━━━\u001b[0m\u001b[37m\u001b[0m \u001b[1m99s\u001b[0m 76ms/step - loss: 6.5915e-04 - mean_absolute_error: 0.0154 - learning_rate: 1.2800e-08\n",
      "Epoch 45/100\n",
      "\u001b[1m1303/1303\u001b[0m \u001b[32m━━━━━━━━━━━━━━━━━━━━\u001b[0m\u001b[37m\u001b[0m \u001b[1m0s\u001b[0m 76ms/step - loss: 6.3363e-04 - mean_absolute_error: 0.0153\n",
      "Epoch 45: loss did not improve from 0.00063\n",
      "\u001b[1m1303/1303\u001b[0m \u001b[32m━━━━━━━━━━━━━━━━━━━━\u001b[0m\u001b[37m\u001b[0m \u001b[1m99s\u001b[0m 76ms/step - loss: 6.3363e-04 - mean_absolute_error: 0.0153 - learning_rate: 1.2800e-08\n",
      "Epoch 45: early stopping\n"
     ]
    },
    {
     "data": {
      "text/plain": [
       "<keras.src.callbacks.history.History at 0x1af1adb39d0>"
      ]
     },
     "execution_count": 123,
     "metadata": {},
     "output_type": "execute_result"
    }
   ],
   "source": [
    "model.fit(x_train, y_train, epochs=100, batch_size=32, callbacks=[early_stop, reduce_plateau, model_checkpoint])"
   ]
  },
  {
   "cell_type": "code",
   "execution_count": 124,
   "metadata": {},
   "outputs": [],
   "source": [
    "model.save('poluicao.keras')"
   ]
  },
  {
   "cell_type": "code",
   "execution_count": 125,
   "metadata": {},
   "outputs": [],
   "source": [
    "model = tf.keras.models.load_model('poluicao.keras')"
   ]
  },
  {
   "cell_type": "code",
   "execution_count": 126,
   "metadata": {},
   "outputs": [
    {
     "data": {
      "text/plain": [
       "array([ 9., 11.,  8.,  9., 10.,  8., 10., 10.,  8., 12.])"
      ]
     },
     "execution_count": 126,
     "metadata": {},
     "output_type": "execute_result"
    }
   ],
   "source": [
    "y_test = base.iloc[-predict:, 0].values\n",
    "y_test"
   ]
  },
  {
   "cell_type": "code",
   "execution_count": 127,
   "metadata": {},
   "outputs": [
    {
     "data": {
      "text/plain": [
       "(41757, 10, 41707)"
      ]
     },
     "execution_count": 127,
     "metadata": {},
     "output_type": "execute_result"
    }
   ],
   "source": [
    "len(base), len(base_test), len(base) - len(base_test) - ant"
   ]
  },
  {
   "cell_type": "code",
   "execution_count": 128,
   "metadata": {},
   "outputs": [
    {
     "data": {
      "text/plain": [
       "(20, 8)"
      ]
     },
     "execution_count": 128,
     "metadata": {},
     "output_type": "execute_result"
    }
   ],
   "source": [
    "input = base[len(base) - len(base_test) - predict:].values\n",
    "input.shape"
   ]
  },
  {
   "cell_type": "code",
   "execution_count": 129,
   "metadata": {},
   "outputs": [
    {
     "data": {
      "text/plain": [
       "(20, 8)"
      ]
     },
     "execution_count": 129,
     "metadata": {},
     "output_type": "execute_result"
    }
   ],
   "source": [
    "input = input[:, 0: 8]\n",
    "input.shape"
   ]
  },
  {
   "cell_type": "code",
   "execution_count": 130,
   "metadata": {},
   "outputs": [],
   "source": [
    "input[:, 4] = le.transform(input[:, 4])"
   ]
  },
  {
   "cell_type": "code",
   "execution_count": 131,
   "metadata": {},
   "outputs": [
    {
     "data": {
      "text/plain": [
       "array([[0.00804829, 0.30882353, 0.27868852, 0.70909091, 0.33333333,\n",
       "        0.16689084, 0.        , 0.        ],\n",
       "       [0.00905433, 0.27941176, 0.26229508, 0.70909091, 0.33333333,\n",
       "        0.19379159, 0.        , 0.        ],\n",
       "       [0.00804829, 0.25      , 0.24590164, 0.74545455, 0.33333333,\n",
       "        0.22939969, 0.        , 0.        ],\n",
       "       [0.00804829, 0.26470588, 0.2295082 , 0.78181818, 0.33333333,\n",
       "        0.25233612, 0.        , 0.        ],\n",
       "       [0.00804829, 0.26470588, 0.2295082 , 0.78181818, 0.33333333,\n",
       "        0.26499009, 0.        , 0.        ],\n",
       "       [0.00804829, 0.26470588, 0.26229508, 0.78181818, 0.33333333,\n",
       "        0.27527255, 0.        , 0.        ],\n",
       "       [0.00704225, 0.26470588, 0.27868852, 0.78181818, 0.33333333,\n",
       "        0.28792652, 0.        , 0.        ],\n",
       "       [0.01207243, 0.26470588, 0.27868852, 0.78181818, 0.33333333,\n",
       "        0.30058049, 0.        , 0.        ],\n",
       "       [0.01710262, 0.26470588, 0.31147541, 0.76363636, 0.33333333,\n",
       "        0.31323446, 0.        , 0.        ],\n",
       "       [0.0110664 , 0.19117647, 0.31147541, 0.74545455, 0.33333333,\n",
       "        0.32905635, 0.        , 0.        ],\n",
       "       [0.00905433, 0.19117647, 0.32786885, 0.74545455, 0.33333333,\n",
       "        0.34645335, 0.        , 0.        ],\n",
       "       [0.0110664 , 0.20588235, 0.32786885, 0.74545455, 0.33333333,\n",
       "        0.36227524, 0.        , 0.        ],\n",
       "       [0.00804829, 0.25      , 0.31147541, 0.74545455, 0.33333333,\n",
       "        0.37809713, 0.        , 0.        ],\n",
       "       [0.00905433, 0.26470588, 0.29508197, 0.76363636, 0.33333333,\n",
       "        0.3907511 , 0.        , 0.        ],\n",
       "       [0.01006036, 0.26470588, 0.27868852, 0.76363636, 0.33333333,\n",
       "        0.39945845, 0.        , 0.        ],\n",
       "       [0.00804829, 0.25      , 0.27868852, 0.78181818, 0.33333333,\n",
       "        0.4097409 , 0.        , 0.        ],\n",
       "       [0.01006036, 0.26470588, 0.26229508, 0.78181818, 0.33333333,\n",
       "        0.42002336, 0.        , 0.        ],\n",
       "       [0.01006036, 0.26470588, 0.26229508, 0.78181818, 0.33333333,\n",
       "        0.42873071, 0.        , 0.        ],\n",
       "       [0.00804829, 0.26470588, 0.24590164, 0.78181818, 0.33333333,\n",
       "        0.43584525, 0.        , 0.        ],\n",
       "       [0.01207243, 0.27941176, 0.26229508, 0.78181818, 0.33333333,\n",
       "        0.44138468, 0.        , 0.        ]])"
      ]
     },
     "execution_count": 131,
     "metadata": {},
     "output_type": "execute_result"
    }
   ],
   "source": [
    "input = normalizer.transform(input)\n",
    "input"
   ]
  },
  {
   "cell_type": "code",
   "execution_count": 132,
   "metadata": {},
   "outputs": [
    {
     "data": {
      "text/plain": [
       "array([[[0.00804829, 0.30882353, 0.27868852, 0.70909091, 0.33333333,\n",
       "         0.16689084, 0.        , 0.        ],\n",
       "        [0.00905433, 0.27941176, 0.26229508, 0.70909091, 0.33333333,\n",
       "         0.19379159, 0.        , 0.        ],\n",
       "        [0.00804829, 0.25      , 0.24590164, 0.74545455, 0.33333333,\n",
       "         0.22939969, 0.        , 0.        ],\n",
       "        [0.00804829, 0.26470588, 0.2295082 , 0.78181818, 0.33333333,\n",
       "         0.25233612, 0.        , 0.        ],\n",
       "        [0.00804829, 0.26470588, 0.2295082 , 0.78181818, 0.33333333,\n",
       "         0.26499009, 0.        , 0.        ],\n",
       "        [0.00804829, 0.26470588, 0.26229508, 0.78181818, 0.33333333,\n",
       "         0.27527255, 0.        , 0.        ],\n",
       "        [0.00704225, 0.26470588, 0.27868852, 0.78181818, 0.33333333,\n",
       "         0.28792652, 0.        , 0.        ],\n",
       "        [0.01207243, 0.26470588, 0.27868852, 0.78181818, 0.33333333,\n",
       "         0.30058049, 0.        , 0.        ],\n",
       "        [0.01710262, 0.26470588, 0.31147541, 0.76363636, 0.33333333,\n",
       "         0.31323446, 0.        , 0.        ],\n",
       "        [0.0110664 , 0.19117647, 0.31147541, 0.74545455, 0.33333333,\n",
       "         0.32905635, 0.        , 0.        ]],\n",
       "\n",
       "       [[0.00905433, 0.27941176, 0.26229508, 0.70909091, 0.33333333,\n",
       "         0.19379159, 0.        , 0.        ],\n",
       "        [0.00804829, 0.25      , 0.24590164, 0.74545455, 0.33333333,\n",
       "         0.22939969, 0.        , 0.        ],\n",
       "        [0.00804829, 0.26470588, 0.2295082 , 0.78181818, 0.33333333,\n",
       "         0.25233612, 0.        , 0.        ],\n",
       "        [0.00804829, 0.26470588, 0.2295082 , 0.78181818, 0.33333333,\n",
       "         0.26499009, 0.        , 0.        ],\n",
       "        [0.00804829, 0.26470588, 0.26229508, 0.78181818, 0.33333333,\n",
       "         0.27527255, 0.        , 0.        ],\n",
       "        [0.00704225, 0.26470588, 0.27868852, 0.78181818, 0.33333333,\n",
       "         0.28792652, 0.        , 0.        ],\n",
       "        [0.01207243, 0.26470588, 0.27868852, 0.78181818, 0.33333333,\n",
       "         0.30058049, 0.        , 0.        ],\n",
       "        [0.01710262, 0.26470588, 0.31147541, 0.76363636, 0.33333333,\n",
       "         0.31323446, 0.        , 0.        ],\n",
       "        [0.0110664 , 0.19117647, 0.31147541, 0.74545455, 0.33333333,\n",
       "         0.32905635, 0.        , 0.        ],\n",
       "        [0.00905433, 0.19117647, 0.32786885, 0.74545455, 0.33333333,\n",
       "         0.34645335, 0.        , 0.        ]],\n",
       "\n",
       "       [[0.00804829, 0.25      , 0.24590164, 0.74545455, 0.33333333,\n",
       "         0.22939969, 0.        , 0.        ],\n",
       "        [0.00804829, 0.26470588, 0.2295082 , 0.78181818, 0.33333333,\n",
       "         0.25233612, 0.        , 0.        ],\n",
       "        [0.00804829, 0.26470588, 0.2295082 , 0.78181818, 0.33333333,\n",
       "         0.26499009, 0.        , 0.        ],\n",
       "        [0.00804829, 0.26470588, 0.26229508, 0.78181818, 0.33333333,\n",
       "         0.27527255, 0.        , 0.        ],\n",
       "        [0.00704225, 0.26470588, 0.27868852, 0.78181818, 0.33333333,\n",
       "         0.28792652, 0.        , 0.        ],\n",
       "        [0.01207243, 0.26470588, 0.27868852, 0.78181818, 0.33333333,\n",
       "         0.30058049, 0.        , 0.        ],\n",
       "        [0.01710262, 0.26470588, 0.31147541, 0.76363636, 0.33333333,\n",
       "         0.31323446, 0.        , 0.        ],\n",
       "        [0.0110664 , 0.19117647, 0.31147541, 0.74545455, 0.33333333,\n",
       "         0.32905635, 0.        , 0.        ],\n",
       "        [0.00905433, 0.19117647, 0.32786885, 0.74545455, 0.33333333,\n",
       "         0.34645335, 0.        , 0.        ],\n",
       "        [0.0110664 , 0.20588235, 0.32786885, 0.74545455, 0.33333333,\n",
       "         0.36227524, 0.        , 0.        ]],\n",
       "\n",
       "       [[0.00804829, 0.26470588, 0.2295082 , 0.78181818, 0.33333333,\n",
       "         0.25233612, 0.        , 0.        ],\n",
       "        [0.00804829, 0.26470588, 0.2295082 , 0.78181818, 0.33333333,\n",
       "         0.26499009, 0.        , 0.        ],\n",
       "        [0.00804829, 0.26470588, 0.26229508, 0.78181818, 0.33333333,\n",
       "         0.27527255, 0.        , 0.        ],\n",
       "        [0.00704225, 0.26470588, 0.27868852, 0.78181818, 0.33333333,\n",
       "         0.28792652, 0.        , 0.        ],\n",
       "        [0.01207243, 0.26470588, 0.27868852, 0.78181818, 0.33333333,\n",
       "         0.30058049, 0.        , 0.        ],\n",
       "        [0.01710262, 0.26470588, 0.31147541, 0.76363636, 0.33333333,\n",
       "         0.31323446, 0.        , 0.        ],\n",
       "        [0.0110664 , 0.19117647, 0.31147541, 0.74545455, 0.33333333,\n",
       "         0.32905635, 0.        , 0.        ],\n",
       "        [0.00905433, 0.19117647, 0.32786885, 0.74545455, 0.33333333,\n",
       "         0.34645335, 0.        , 0.        ],\n",
       "        [0.0110664 , 0.20588235, 0.32786885, 0.74545455, 0.33333333,\n",
       "         0.36227524, 0.        , 0.        ],\n",
       "        [0.00804829, 0.25      , 0.31147541, 0.74545455, 0.33333333,\n",
       "         0.37809713, 0.        , 0.        ]],\n",
       "\n",
       "       [[0.00804829, 0.26470588, 0.2295082 , 0.78181818, 0.33333333,\n",
       "         0.26499009, 0.        , 0.        ],\n",
       "        [0.00804829, 0.26470588, 0.26229508, 0.78181818, 0.33333333,\n",
       "         0.27527255, 0.        , 0.        ],\n",
       "        [0.00704225, 0.26470588, 0.27868852, 0.78181818, 0.33333333,\n",
       "         0.28792652, 0.        , 0.        ],\n",
       "        [0.01207243, 0.26470588, 0.27868852, 0.78181818, 0.33333333,\n",
       "         0.30058049, 0.        , 0.        ],\n",
       "        [0.01710262, 0.26470588, 0.31147541, 0.76363636, 0.33333333,\n",
       "         0.31323446, 0.        , 0.        ],\n",
       "        [0.0110664 , 0.19117647, 0.31147541, 0.74545455, 0.33333333,\n",
       "         0.32905635, 0.        , 0.        ],\n",
       "        [0.00905433, 0.19117647, 0.32786885, 0.74545455, 0.33333333,\n",
       "         0.34645335, 0.        , 0.        ],\n",
       "        [0.0110664 , 0.20588235, 0.32786885, 0.74545455, 0.33333333,\n",
       "         0.36227524, 0.        , 0.        ],\n",
       "        [0.00804829, 0.25      , 0.31147541, 0.74545455, 0.33333333,\n",
       "         0.37809713, 0.        , 0.        ],\n",
       "        [0.00905433, 0.26470588, 0.29508197, 0.76363636, 0.33333333,\n",
       "         0.3907511 , 0.        , 0.        ]],\n",
       "\n",
       "       [[0.00804829, 0.26470588, 0.26229508, 0.78181818, 0.33333333,\n",
       "         0.27527255, 0.        , 0.        ],\n",
       "        [0.00704225, 0.26470588, 0.27868852, 0.78181818, 0.33333333,\n",
       "         0.28792652, 0.        , 0.        ],\n",
       "        [0.01207243, 0.26470588, 0.27868852, 0.78181818, 0.33333333,\n",
       "         0.30058049, 0.        , 0.        ],\n",
       "        [0.01710262, 0.26470588, 0.31147541, 0.76363636, 0.33333333,\n",
       "         0.31323446, 0.        , 0.        ],\n",
       "        [0.0110664 , 0.19117647, 0.31147541, 0.74545455, 0.33333333,\n",
       "         0.32905635, 0.        , 0.        ],\n",
       "        [0.00905433, 0.19117647, 0.32786885, 0.74545455, 0.33333333,\n",
       "         0.34645335, 0.        , 0.        ],\n",
       "        [0.0110664 , 0.20588235, 0.32786885, 0.74545455, 0.33333333,\n",
       "         0.36227524, 0.        , 0.        ],\n",
       "        [0.00804829, 0.25      , 0.31147541, 0.74545455, 0.33333333,\n",
       "         0.37809713, 0.        , 0.        ],\n",
       "        [0.00905433, 0.26470588, 0.29508197, 0.76363636, 0.33333333,\n",
       "         0.3907511 , 0.        , 0.        ],\n",
       "        [0.01006036, 0.26470588, 0.27868852, 0.76363636, 0.33333333,\n",
       "         0.39945845, 0.        , 0.        ]],\n",
       "\n",
       "       [[0.00704225, 0.26470588, 0.27868852, 0.78181818, 0.33333333,\n",
       "         0.28792652, 0.        , 0.        ],\n",
       "        [0.01207243, 0.26470588, 0.27868852, 0.78181818, 0.33333333,\n",
       "         0.30058049, 0.        , 0.        ],\n",
       "        [0.01710262, 0.26470588, 0.31147541, 0.76363636, 0.33333333,\n",
       "         0.31323446, 0.        , 0.        ],\n",
       "        [0.0110664 , 0.19117647, 0.31147541, 0.74545455, 0.33333333,\n",
       "         0.32905635, 0.        , 0.        ],\n",
       "        [0.00905433, 0.19117647, 0.32786885, 0.74545455, 0.33333333,\n",
       "         0.34645335, 0.        , 0.        ],\n",
       "        [0.0110664 , 0.20588235, 0.32786885, 0.74545455, 0.33333333,\n",
       "         0.36227524, 0.        , 0.        ],\n",
       "        [0.00804829, 0.25      , 0.31147541, 0.74545455, 0.33333333,\n",
       "         0.37809713, 0.        , 0.        ],\n",
       "        [0.00905433, 0.26470588, 0.29508197, 0.76363636, 0.33333333,\n",
       "         0.3907511 , 0.        , 0.        ],\n",
       "        [0.01006036, 0.26470588, 0.27868852, 0.76363636, 0.33333333,\n",
       "         0.39945845, 0.        , 0.        ],\n",
       "        [0.00804829, 0.25      , 0.27868852, 0.78181818, 0.33333333,\n",
       "         0.4097409 , 0.        , 0.        ]],\n",
       "\n",
       "       [[0.01207243, 0.26470588, 0.27868852, 0.78181818, 0.33333333,\n",
       "         0.30058049, 0.        , 0.        ],\n",
       "        [0.01710262, 0.26470588, 0.31147541, 0.76363636, 0.33333333,\n",
       "         0.31323446, 0.        , 0.        ],\n",
       "        [0.0110664 , 0.19117647, 0.31147541, 0.74545455, 0.33333333,\n",
       "         0.32905635, 0.        , 0.        ],\n",
       "        [0.00905433, 0.19117647, 0.32786885, 0.74545455, 0.33333333,\n",
       "         0.34645335, 0.        , 0.        ],\n",
       "        [0.0110664 , 0.20588235, 0.32786885, 0.74545455, 0.33333333,\n",
       "         0.36227524, 0.        , 0.        ],\n",
       "        [0.00804829, 0.25      , 0.31147541, 0.74545455, 0.33333333,\n",
       "         0.37809713, 0.        , 0.        ],\n",
       "        [0.00905433, 0.26470588, 0.29508197, 0.76363636, 0.33333333,\n",
       "         0.3907511 , 0.        , 0.        ],\n",
       "        [0.01006036, 0.26470588, 0.27868852, 0.76363636, 0.33333333,\n",
       "         0.39945845, 0.        , 0.        ],\n",
       "        [0.00804829, 0.25      , 0.27868852, 0.78181818, 0.33333333,\n",
       "         0.4097409 , 0.        , 0.        ],\n",
       "        [0.01006036, 0.26470588, 0.26229508, 0.78181818, 0.33333333,\n",
       "         0.42002336, 0.        , 0.        ]],\n",
       "\n",
       "       [[0.01710262, 0.26470588, 0.31147541, 0.76363636, 0.33333333,\n",
       "         0.31323446, 0.        , 0.        ],\n",
       "        [0.0110664 , 0.19117647, 0.31147541, 0.74545455, 0.33333333,\n",
       "         0.32905635, 0.        , 0.        ],\n",
       "        [0.00905433, 0.19117647, 0.32786885, 0.74545455, 0.33333333,\n",
       "         0.34645335, 0.        , 0.        ],\n",
       "        [0.0110664 , 0.20588235, 0.32786885, 0.74545455, 0.33333333,\n",
       "         0.36227524, 0.        , 0.        ],\n",
       "        [0.00804829, 0.25      , 0.31147541, 0.74545455, 0.33333333,\n",
       "         0.37809713, 0.        , 0.        ],\n",
       "        [0.00905433, 0.26470588, 0.29508197, 0.76363636, 0.33333333,\n",
       "         0.3907511 , 0.        , 0.        ],\n",
       "        [0.01006036, 0.26470588, 0.27868852, 0.76363636, 0.33333333,\n",
       "         0.39945845, 0.        , 0.        ],\n",
       "        [0.00804829, 0.25      , 0.27868852, 0.78181818, 0.33333333,\n",
       "         0.4097409 , 0.        , 0.        ],\n",
       "        [0.01006036, 0.26470588, 0.26229508, 0.78181818, 0.33333333,\n",
       "         0.42002336, 0.        , 0.        ],\n",
       "        [0.01006036, 0.26470588, 0.26229508, 0.78181818, 0.33333333,\n",
       "         0.42873071, 0.        , 0.        ]],\n",
       "\n",
       "       [[0.0110664 , 0.19117647, 0.31147541, 0.74545455, 0.33333333,\n",
       "         0.32905635, 0.        , 0.        ],\n",
       "        [0.00905433, 0.19117647, 0.32786885, 0.74545455, 0.33333333,\n",
       "         0.34645335, 0.        , 0.        ],\n",
       "        [0.0110664 , 0.20588235, 0.32786885, 0.74545455, 0.33333333,\n",
       "         0.36227524, 0.        , 0.        ],\n",
       "        [0.00804829, 0.25      , 0.31147541, 0.74545455, 0.33333333,\n",
       "         0.37809713, 0.        , 0.        ],\n",
       "        [0.00905433, 0.26470588, 0.29508197, 0.76363636, 0.33333333,\n",
       "         0.3907511 , 0.        , 0.        ],\n",
       "        [0.01006036, 0.26470588, 0.27868852, 0.76363636, 0.33333333,\n",
       "         0.39945845, 0.        , 0.        ],\n",
       "        [0.00804829, 0.25      , 0.27868852, 0.78181818, 0.33333333,\n",
       "         0.4097409 , 0.        , 0.        ],\n",
       "        [0.01006036, 0.26470588, 0.26229508, 0.78181818, 0.33333333,\n",
       "         0.42002336, 0.        , 0.        ],\n",
       "        [0.01006036, 0.26470588, 0.26229508, 0.78181818, 0.33333333,\n",
       "         0.42873071, 0.        , 0.        ],\n",
       "        [0.00804829, 0.26470588, 0.24590164, 0.78181818, 0.33333333,\n",
       "         0.43584525, 0.        , 0.        ]]])"
      ]
     },
     "execution_count": 132,
     "metadata": {},
     "output_type": "execute_result"
    }
   ],
   "source": [
    "x_test = [input[i-predict:i, 0:8] for i in range(predict, input.shape[0])]\n",
    "x_test = np.array(x_test)\n",
    "x_test"
   ]
  },
  {
   "cell_type": "code",
   "execution_count": 133,
   "metadata": {},
   "outputs": [
    {
     "data": {
      "text/plain": [
       "(10, 10, 8)"
      ]
     },
     "execution_count": 133,
     "metadata": {},
     "output_type": "execute_result"
    }
   ],
   "source": [
    "x_test.shape"
   ]
  },
  {
   "cell_type": "code",
   "execution_count": 134,
   "metadata": {},
   "outputs": [
    {
     "name": "stdout",
     "output_type": "stream",
     "text": [
      "\u001b[1m1/1\u001b[0m \u001b[32m━━━━━━━━━━━━━━━━━━━━\u001b[0m\u001b[37m\u001b[0m \u001b[1m1s\u001b[0m 1s/step\n"
     ]
    },
    {
     "data": {
      "text/plain": [
       "array([[0.00510787],\n",
       "       [0.0043796 ],\n",
       "       [0.00798894],\n",
       "       [0.00914055],\n",
       "       [0.01041076],\n",
       "       [0.01116868],\n",
       "       [0.0079307 ],\n",
       "       [0.00989571],\n",
       "       [0.00936329],\n",
       "       [0.00752922]], dtype=float32)"
      ]
     },
     "execution_count": 134,
     "metadata": {},
     "output_type": "execute_result"
    }
   ],
   "source": [
    "prevs = model.predict(x_test)\n",
    "prevs"
   ]
  },
  {
   "cell_type": "code",
   "execution_count": 135,
   "metadata": {},
   "outputs": [
    {
     "data": {
      "text/plain": [
       "array([[ 5.0772247],\n",
       "       [ 4.3533225],\n",
       "       [ 7.941004 ],\n",
       "       [ 9.085708 ],\n",
       "       [10.348291 ],\n",
       "       [11.101669 ],\n",
       "       [ 7.883119 ],\n",
       "       [ 9.836338 ],\n",
       "       [ 9.307114 ],\n",
       "       [ 7.484046 ]], dtype=float32)"
      ]
     },
     "execution_count": 135,
     "metadata": {},
     "output_type": "execute_result"
    }
   ],
   "source": [
    "prevs = normalizerY.inverse_transform(prevs)\n",
    "prevs"
   ]
  },
  {
   "cell_type": "code",
   "execution_count": 136,
   "metadata": {},
   "outputs": [
    {
     "data": {
      "text/plain": [
       "((10, 1), (10,))"
      ]
     },
     "execution_count": 136,
     "metadata": {},
     "output_type": "execute_result"
    }
   ],
   "source": [
    "prevs.shape, y_test.shape"
   ]
  },
  {
   "cell_type": "code",
   "execution_count": 137,
   "metadata": {},
   "outputs": [
    {
     "data": {
      "text/plain": [
       "(9.5, 8.241784)"
      ]
     },
     "execution_count": 137,
     "metadata": {},
     "output_type": "execute_result"
    }
   ],
   "source": [
    "y_test.mean(), prevs.mean()"
   ]
  },
  {
   "cell_type": "code",
   "execution_count": 138,
   "metadata": {},
   "outputs": [
    {
     "data": {
      "text/plain": [
       "2.2267727851867676"
      ]
     },
     "execution_count": 138,
     "metadata": {},
     "output_type": "execute_result"
    }
   ],
   "source": [
    "mean_absolute_error(y_test, prevs)"
   ]
  },
  {
   "cell_type": "code",
   "execution_count": 139,
   "metadata": {},
   "outputs": [
    {
     "data": {
      "image/png": "[encoded data removed]",
      "text/plain": [
       "<Figure size 640x480 with 1 Axes>"
      ]
     },
     "metadata": {},
     "output_type": "display_data"
    }
   ],
   "source": [
    "plt.plot(y_test, color='red', label='Preço Real')\n",
    "plt.plot(prevs, color='blue', label='Previsões')\n",
    "plt.title('Previsão dos preços das ações')\n",
    "plt.xlabel('Tempo')\n",
    "plt.ylabel('Valor')\n",
    "plt.legend();"
   ]
  }
 ],
 "metadata": {
  "kernelspec": {
   "display_name": "dlp",
   "language": "python",
   "name": "python3"
  },
  "language_info": {
   "codemirror_mode": {
    "name": "ipython",
    "version": 3
   },
   "file_extension": ".py",
   "mimetype": "text/x-python",
   "name": "python",
   "nbconvert_exporter": "python",
   "pygments_lexer": "ipython3",
   "version": "3.10.15"
  }
 },
 "nbformat": 4,
 "nbformat_minor": 2
}
