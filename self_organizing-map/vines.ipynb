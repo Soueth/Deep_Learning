{
 "cells": [
  {
   "cell_type": "code",
   "execution_count": 12,
   "metadata": {},
   "outputs": [],
   "source": [
    "import pandas as pd\n",
    "import matplotlib.pyplot as plt\n",
    "import numpy as np\n",
    "\n",
    "from minisom import MiniSom\n",
    "from sklearn.preprocessing import MinMaxScaler\n",
    "from matplotlib.pylab import pcolor, colorbar, plot"
   ]
  },
  {
   "cell_type": "code",
   "execution_count": 3,
   "metadata": {},
   "outputs": [
    {
     "data": {
      "text/html": [
       "<div>\n",
       "<style scoped>\n",
       "    .dataframe tbody tr th:only-of-type {\n",
       "        vertical-align: middle;\n",
       "    }\n",
       "\n",
       "    .dataframe tbody tr th {\n",
       "        vertical-align: top;\n",
       "    }\n",
       "\n",
       "    .dataframe thead th {\n",
       "        text-align: right;\n",
       "    }\n",
       "</style>\n",
       "<table border=\"1\" class=\"dataframe\">\n",
       "  <thead>\n",
       "    <tr style=\"text-align: right;\">\n",
       "      <th></th>\n",
       "      <th>Class</th>\n",
       "      <th>Alcohol</th>\n",
       "      <th>Malic acid</th>\n",
       "      <th>Ash</th>\n",
       "      <th>Alcalinity of ash</th>\n",
       "      <th>Magnesium</th>\n",
       "      <th>Total phenols</th>\n",
       "      <th>Flavanoids</th>\n",
       "      <th>Nonflavanoid phenols</th>\n",
       "      <th>Proanthocyanins</th>\n",
       "      <th>Color intensity</th>\n",
       "      <th>Hue</th>\n",
       "      <th>OD280/OD315 of diluted wines</th>\n",
       "      <th>Proline</th>\n",
       "    </tr>\n",
       "  </thead>\n",
       "  <tbody>\n",
       "    <tr>\n",
       "      <th>0</th>\n",
       "      <td>1</td>\n",
       "      <td>14.23</td>\n",
       "      <td>1.71</td>\n",
       "      <td>2.43</td>\n",
       "      <td>15.6</td>\n",
       "      <td>127</td>\n",
       "      <td>2.80</td>\n",
       "      <td>3.06</td>\n",
       "      <td>0.28</td>\n",
       "      <td>2.29</td>\n",
       "      <td>5.64</td>\n",
       "      <td>1.04</td>\n",
       "      <td>3.92</td>\n",
       "      <td>1065</td>\n",
       "    </tr>\n",
       "    <tr>\n",
       "      <th>1</th>\n",
       "      <td>1</td>\n",
       "      <td>13.20</td>\n",
       "      <td>1.78</td>\n",
       "      <td>2.14</td>\n",
       "      <td>11.2</td>\n",
       "      <td>100</td>\n",
       "      <td>2.65</td>\n",
       "      <td>2.76</td>\n",
       "      <td>0.26</td>\n",
       "      <td>1.28</td>\n",
       "      <td>4.38</td>\n",
       "      <td>1.05</td>\n",
       "      <td>3.40</td>\n",
       "      <td>1050</td>\n",
       "    </tr>\n",
       "    <tr>\n",
       "      <th>2</th>\n",
       "      <td>1</td>\n",
       "      <td>13.16</td>\n",
       "      <td>2.36</td>\n",
       "      <td>2.67</td>\n",
       "      <td>18.6</td>\n",
       "      <td>101</td>\n",
       "      <td>2.80</td>\n",
       "      <td>3.24</td>\n",
       "      <td>0.30</td>\n",
       "      <td>2.81</td>\n",
       "      <td>5.68</td>\n",
       "      <td>1.03</td>\n",
       "      <td>3.17</td>\n",
       "      <td>1185</td>\n",
       "    </tr>\n",
       "    <tr>\n",
       "      <th>3</th>\n",
       "      <td>1</td>\n",
       "      <td>14.37</td>\n",
       "      <td>1.95</td>\n",
       "      <td>2.50</td>\n",
       "      <td>16.8</td>\n",
       "      <td>113</td>\n",
       "      <td>3.85</td>\n",
       "      <td>3.49</td>\n",
       "      <td>0.24</td>\n",
       "      <td>2.18</td>\n",
       "      <td>7.80</td>\n",
       "      <td>0.86</td>\n",
       "      <td>3.45</td>\n",
       "      <td>1480</td>\n",
       "    </tr>\n",
       "    <tr>\n",
       "      <th>4</th>\n",
       "      <td>1</td>\n",
       "      <td>13.24</td>\n",
       "      <td>2.59</td>\n",
       "      <td>2.87</td>\n",
       "      <td>21.0</td>\n",
       "      <td>118</td>\n",
       "      <td>2.80</td>\n",
       "      <td>2.69</td>\n",
       "      <td>0.39</td>\n",
       "      <td>1.82</td>\n",
       "      <td>4.32</td>\n",
       "      <td>1.04</td>\n",
       "      <td>2.93</td>\n",
       "      <td>735</td>\n",
       "    </tr>\n",
       "    <tr>\n",
       "      <th>...</th>\n",
       "      <td>...</td>\n",
       "      <td>...</td>\n",
       "      <td>...</td>\n",
       "      <td>...</td>\n",
       "      <td>...</td>\n",
       "      <td>...</td>\n",
       "      <td>...</td>\n",
       "      <td>...</td>\n",
       "      <td>...</td>\n",
       "      <td>...</td>\n",
       "      <td>...</td>\n",
       "      <td>...</td>\n",
       "      <td>...</td>\n",
       "      <td>...</td>\n",
       "    </tr>\n",
       "    <tr>\n",
       "      <th>173</th>\n",
       "      <td>3</td>\n",
       "      <td>13.71</td>\n",
       "      <td>5.65</td>\n",
       "      <td>2.45</td>\n",
       "      <td>20.5</td>\n",
       "      <td>95</td>\n",
       "      <td>1.68</td>\n",
       "      <td>0.61</td>\n",
       "      <td>0.52</td>\n",
       "      <td>1.06</td>\n",
       "      <td>7.70</td>\n",
       "      <td>0.64</td>\n",
       "      <td>1.74</td>\n",
       "      <td>740</td>\n",
       "    </tr>\n",
       "    <tr>\n",
       "      <th>174</th>\n",
       "      <td>3</td>\n",
       "      <td>13.40</td>\n",
       "      <td>3.91</td>\n",
       "      <td>2.48</td>\n",
       "      <td>23.0</td>\n",
       "      <td>102</td>\n",
       "      <td>1.80</td>\n",
       "      <td>0.75</td>\n",
       "      <td>0.43</td>\n",
       "      <td>1.41</td>\n",
       "      <td>7.30</td>\n",
       "      <td>0.70</td>\n",
       "      <td>1.56</td>\n",
       "      <td>750</td>\n",
       "    </tr>\n",
       "    <tr>\n",
       "      <th>175</th>\n",
       "      <td>3</td>\n",
       "      <td>13.27</td>\n",
       "      <td>4.28</td>\n",
       "      <td>2.26</td>\n",
       "      <td>20.0</td>\n",
       "      <td>120</td>\n",
       "      <td>1.59</td>\n",
       "      <td>0.69</td>\n",
       "      <td>0.43</td>\n",
       "      <td>1.35</td>\n",
       "      <td>10.20</td>\n",
       "      <td>0.59</td>\n",
       "      <td>1.56</td>\n",
       "      <td>835</td>\n",
       "    </tr>\n",
       "    <tr>\n",
       "      <th>176</th>\n",
       "      <td>3</td>\n",
       "      <td>13.17</td>\n",
       "      <td>2.59</td>\n",
       "      <td>2.37</td>\n",
       "      <td>20.0</td>\n",
       "      <td>120</td>\n",
       "      <td>1.65</td>\n",
       "      <td>0.68</td>\n",
       "      <td>0.53</td>\n",
       "      <td>1.46</td>\n",
       "      <td>9.30</td>\n",
       "      <td>0.60</td>\n",
       "      <td>1.62</td>\n",
       "      <td>840</td>\n",
       "    </tr>\n",
       "    <tr>\n",
       "      <th>177</th>\n",
       "      <td>3</td>\n",
       "      <td>14.13</td>\n",
       "      <td>4.10</td>\n",
       "      <td>2.74</td>\n",
       "      <td>24.5</td>\n",
       "      <td>96</td>\n",
       "      <td>2.05</td>\n",
       "      <td>0.76</td>\n",
       "      <td>0.56</td>\n",
       "      <td>1.35</td>\n",
       "      <td>9.20</td>\n",
       "      <td>0.61</td>\n",
       "      <td>1.60</td>\n",
       "      <td>560</td>\n",
       "    </tr>\n",
       "  </tbody>\n",
       "</table>\n",
       "<p>178 rows × 14 columns</p>\n",
       "</div>"
      ],
      "text/plain": [
       "     Class  Alcohol  Malic acid   Ash   Alcalinity of ash  Magnesium  \\\n",
       "0        1    14.23        1.71  2.43                15.6        127   \n",
       "1        1    13.20        1.78  2.14                11.2        100   \n",
       "2        1    13.16        2.36  2.67                18.6        101   \n",
       "3        1    14.37        1.95  2.50                16.8        113   \n",
       "4        1    13.24        2.59  2.87                21.0        118   \n",
       "..     ...      ...         ...   ...                 ...        ...   \n",
       "173      3    13.71        5.65  2.45                20.5         95   \n",
       "174      3    13.40        3.91  2.48                23.0        102   \n",
       "175      3    13.27        4.28  2.26                20.0        120   \n",
       "176      3    13.17        2.59  2.37                20.0        120   \n",
       "177      3    14.13        4.10  2.74                24.5         96   \n",
       "\n",
       "     Total phenols  Flavanoids  Nonflavanoid phenols  Proanthocyanins  \\\n",
       "0             2.80        3.06                  0.28             2.29   \n",
       "1             2.65        2.76                  0.26             1.28   \n",
       "2             2.80        3.24                  0.30             2.81   \n",
       "3             3.85        3.49                  0.24             2.18   \n",
       "4             2.80        2.69                  0.39             1.82   \n",
       "..             ...         ...                   ...              ...   \n",
       "173           1.68        0.61                  0.52             1.06   \n",
       "174           1.80        0.75                  0.43             1.41   \n",
       "175           1.59        0.69                  0.43             1.35   \n",
       "176           1.65        0.68                  0.53             1.46   \n",
       "177           2.05        0.76                  0.56             1.35   \n",
       "\n",
       "     Color intensity   Hue  OD280/OD315 of diluted wines  Proline  \n",
       "0               5.64  1.04                          3.92     1065  \n",
       "1               4.38  1.05                          3.40     1050  \n",
       "2               5.68  1.03                          3.17     1185  \n",
       "3               7.80  0.86                          3.45     1480  \n",
       "4               4.32  1.04                          2.93      735  \n",
       "..               ...   ...                           ...      ...  \n",
       "173             7.70  0.64                          1.74      740  \n",
       "174             7.30  0.70                          1.56      750  \n",
       "175            10.20  0.59                          1.56      835  \n",
       "176             9.30  0.60                          1.62      840  \n",
       "177             9.20  0.61                          1.60      560  \n",
       "\n",
       "[178 rows x 14 columns]"
      ]
     },
     "execution_count": 3,
     "metadata": {},
     "output_type": "execute_result"
    }
   ],
   "source": [
    "base = pd.read_csv('bases/wines.csv')\n",
    "base"
   ]
  },
  {
   "cell_type": "code",
   "execution_count": 4,
   "metadata": {},
   "outputs": [],
   "source": [
    "X = base.iloc[:, 1:14].values\n",
    "y = base.iloc[:, 0].values"
   ]
  },
  {
   "cell_type": "code",
   "execution_count": 6,
   "metadata": {},
   "outputs": [
    {
     "data": {
      "text/plain": [
       "array([[1.423e+01, 1.710e+00, 2.430e+00, ..., 1.040e+00, 3.920e+00,\n",
       "        1.065e+03],\n",
       "       [1.320e+01, 1.780e+00, 2.140e+00, ..., 1.050e+00, 3.400e+00,\n",
       "        1.050e+03],\n",
       "       [1.316e+01, 2.360e+00, 2.670e+00, ..., 1.030e+00, 3.170e+00,\n",
       "        1.185e+03],\n",
       "       ...,\n",
       "       [1.327e+01, 4.280e+00, 2.260e+00, ..., 5.900e-01, 1.560e+00,\n",
       "        8.350e+02],\n",
       "       [1.317e+01, 2.590e+00, 2.370e+00, ..., 6.000e-01, 1.620e+00,\n",
       "        8.400e+02],\n",
       "       [1.413e+01, 4.100e+00, 2.740e+00, ..., 6.100e-01, 1.600e+00,\n",
       "        5.600e+02]])"
      ]
     },
     "execution_count": 6,
     "metadata": {},
     "output_type": "execute_result"
    }
   ],
   "source": [
    "X"
   ]
  },
  {
   "cell_type": "code",
   "execution_count": 7,
   "metadata": {},
   "outputs": [
    {
     "data": {
      "text/plain": [
       "array([1, 1, 1, 1, 1, 1, 1, 1, 1, 1, 1, 1, 1, 1, 1, 1, 1, 1, 1, 1, 1, 1,\n",
       "       1, 1, 1, 1, 1, 1, 1, 1, 1, 1, 1, 1, 1, 1, 1, 1, 1, 1, 1, 1, 1, 1,\n",
       "       1, 1, 1, 1, 1, 1, 1, 1, 1, 1, 1, 1, 1, 1, 1, 2, 2, 2, 2, 2, 2, 2,\n",
       "       2, 2, 2, 2, 2, 2, 2, 2, 2, 2, 2, 2, 2, 2, 2, 2, 2, 2, 2, 2, 2, 2,\n",
       "       2, 2, 2, 2, 2, 2, 2, 2, 2, 2, 2, 2, 2, 2, 2, 2, 2, 2, 2, 2, 2, 2,\n",
       "       2, 2, 2, 2, 2, 2, 2, 2, 2, 2, 2, 2, 2, 2, 2, 2, 2, 2, 2, 2, 3, 3,\n",
       "       3, 3, 3, 3, 3, 3, 3, 3, 3, 3, 3, 3, 3, 3, 3, 3, 3, 3, 3, 3, 3, 3,\n",
       "       3, 3, 3, 3, 3, 3, 3, 3, 3, 3, 3, 3, 3, 3, 3, 3, 3, 3, 3, 3, 3, 3,\n",
       "       3, 3])"
      ]
     },
     "execution_count": 7,
     "metadata": {},
     "output_type": "execute_result"
    }
   ],
   "source": [
    "y"
   ]
  },
  {
   "cell_type": "code",
   "execution_count": 10,
   "metadata": {},
   "outputs": [
    {
     "data": {
      "text/plain": [
       "array([[0.84210526, 0.1916996 , 0.57219251, ..., 0.45528455, 0.97069597,\n",
       "        0.56134094],\n",
       "       [0.57105263, 0.2055336 , 0.4171123 , ..., 0.46341463, 0.78021978,\n",
       "        0.55064194],\n",
       "       [0.56052632, 0.3201581 , 0.70053476, ..., 0.44715447, 0.6959707 ,\n",
       "        0.64693295],\n",
       "       ...,\n",
       "       [0.58947368, 0.69960474, 0.48128342, ..., 0.08943089, 0.10622711,\n",
       "        0.39728959],\n",
       "       [0.56315789, 0.36561265, 0.54010695, ..., 0.09756098, 0.12820513,\n",
       "        0.40085592],\n",
       "       [0.81578947, 0.66403162, 0.73796791, ..., 0.10569106, 0.12087912,\n",
       "        0.20114123]])"
      ]
     },
     "execution_count": 10,
     "metadata": {},
     "output_type": "execute_result"
    }
   ],
   "source": [
    "normalizer = MinMaxScaler(feature_range=(0, 1))\n",
    "X = normalizer.fit_transform(X)\n",
    "X"
   ]
  },
  {
   "cell_type": "markdown",
   "metadata": {},
   "source": [
    "# **Mapa Auto-organizázel**"
   ]
  },
  {
   "cell_type": "code",
   "execution_count": 13,
   "metadata": {},
   "outputs": [
    {
     "data": {
      "text/plain": [
       "66.70832032063167"
      ]
     },
     "execution_count": 13,
     "metadata": {},
     "output_type": "execute_result"
    }
   ],
   "source": [
    "5 * np.sqrt(base.shape[0])"
   ]
  },
  {
   "cell_type": "code",
   "execution_count": 16,
   "metadata": {},
   "outputs": [],
   "source": [
    "som = MiniSom(x=8, y=8, input_len=X.shape[1], sigma=1.0, learning_rate=0.5, random_seed=2)"
   ]
  },
  {
   "cell_type": "code",
   "execution_count": 17,
   "metadata": {},
   "outputs": [],
   "source": [
    "som.random_weights_init(X)"
   ]
  },
  {
   "cell_type": "code",
   "execution_count": 38,
   "metadata": {},
   "outputs": [],
   "source": [
    "som.train_random(data=X, num_iteration=1000)"
   ]
  },
  {
   "cell_type": "code",
   "execution_count": 39,
   "metadata": {},
   "outputs": [
    {
     "data": {
      "text/plain": [
       "array([[[0.79622706, 0.49587392, 0.55713762, 0.24791461, 0.4424775 ,\n",
       "         0.71358675, 0.58849965, 0.18428371, 0.49983723, 0.32972683,\n",
       "         0.40803379, 0.78605057, 0.48366519],\n",
       "        [0.70018598, 0.19849926, 0.44954709, 0.30069366, 0.43026801,\n",
       "         0.72670835, 0.59797925, 0.24891619, 0.53541581, 0.38656852,\n",
       "         0.36432736, 0.76528232, 0.46059701],\n",
       "        [0.62163805, 0.19212154, 0.6784324 , 0.67101021, 0.61748944,\n",
       "         0.72209331, 0.54052958, 0.36294363, 0.43483604, 0.26268143,\n",
       "         0.60374075, 0.76610554, 0.52034261],\n",
       "        [0.39180032, 0.29917478, 0.89504769, 0.7180219 , 0.52413992,\n",
       "         0.66079302, 0.68895766, 0.57862542, 0.45085156, 0.30480311,\n",
       "         0.43519252, 0.72936549, 0.25962808],\n",
       "        [0.27410184, 0.30002112, 0.65797894, 0.71048525, 0.25329848,\n",
       "         0.32941856, 0.36524569, 0.86669113, 0.36111775, 0.15017016,\n",
       "         0.41186424, 0.54350145, 0.11641177],\n",
       "        [0.18245942, 0.14760646, 0.52110294, 0.57433434, 0.21380025,\n",
       "         0.38051269, 0.32305445, 0.62118348, 0.37308562, 0.10072203,\n",
       "         0.74301733, 0.44486345, 0.12332308],\n",
       "        [0.21996585, 0.17453952, 0.58986899, 0.69411053, 0.12444782,\n",
       "         0.36824297, 0.27634719, 0.54202423, 0.30939645, 0.0888957 ,\n",
       "         0.5840092 , 0.65221067, 0.22441648],\n",
       "        [0.38727312, 0.59319583, 0.58101374, 0.66015306, 0.28883067,\n",
       "         0.54820803, 0.41869001, 0.55230311, 0.42927571, 0.10288563,\n",
       "         0.47786023, 0.64891745, 0.12977006]],\n",
       "\n",
       "       [[0.78264287, 0.19530336, 0.59433093, 0.28690707, 0.40893236,\n",
       "         0.85162242, 0.66524973, 0.16921508, 0.50986244, 0.47964447,\n",
       "         0.35334135, 0.72620367, 0.71728256],\n",
       "        [0.79511727, 0.23511008, 0.59773912, 0.30691938, 0.44001672,\n",
       "         0.59183619, 0.49633077, 0.3012619 , 0.40096659, 0.34511634,\n",
       "         0.45425307, 0.82608844, 0.66824581],\n",
       "        [0.65307419, 0.21400547, 0.6147629 , 0.41764263, 0.32536183,\n",
       "         0.57436134, 0.50324675, 0.29213402, 0.40794828, 0.25044358,\n",
       "         0.51098157, 0.87128262, 0.48132089],\n",
       "        [0.41779974, 0.16641796, 0.64350282, 0.44851139, 0.31915359,\n",
       "         0.47452362, 0.46543611, 0.4725292 , 0.47296884, 0.2611331 ,\n",
       "         0.52092605, 0.4882634 , 0.30121974],\n",
       "        [0.33400619, 0.20460185, 0.51576827, 0.496734  , 0.15757979,\n",
       "         0.18750574, 0.25357707, 0.70059971, 0.3740616 , 0.14475092,\n",
       "         0.42914492, 0.37917466, 0.15077367],\n",
       "        [0.20715445, 0.28954826, 0.40896881, 0.37475061, 0.33639168,\n",
       "         0.25498672, 0.24471013, 0.49497329, 0.24336359, 0.15480258,\n",
       "         0.49824454, 0.40230176, 0.13547046],\n",
       "        [0.29982474, 0.18883687, 0.36116218, 0.45645683, 0.19796413,\n",
       "         0.39356759, 0.34074734, 0.46457396, 0.44371545, 0.11651073,\n",
       "         0.36528626, 0.64467217, 0.09728348],\n",
       "        [0.35183909, 0.21794624, 0.51188401, 0.59583746, 0.2118957 ,\n",
       "         0.52249489, 0.46750111, 0.4631645 , 0.38831445, 0.14247281,\n",
       "         0.27910693, 0.62737718, 0.07240622]],\n",
       "\n",
       "       [[0.90004581, 0.19775533, 0.49548709, 0.13598242, 0.30720471,\n",
       "         0.70118021, 0.63275659, 0.31897373, 0.64839126, 0.42385305,\n",
       "         0.5403441 , 0.59731979, 0.69418446],\n",
       "        [0.76792295, 0.20764301, 0.55524133, 0.35344762, 0.40635054,\n",
       "         0.70198868, 0.65258504, 0.28607568, 0.50106697, 0.52082307,\n",
       "         0.55512463, 0.61950578, 0.85375975],\n",
       "        [0.65261133, 0.56920409, 0.51420197, 0.39408171, 0.33490749,\n",
       "         0.57008118, 0.49521648, 0.30975756, 0.3674702 , 0.29467661,\n",
       "         0.35133248, 0.68057061, 0.46865232],\n",
       "        [0.56896377, 0.40380597, 0.5837994 , 0.50065679, 0.35000378,\n",
       "         0.39904861, 0.32393868, 0.38465029, 0.37259006, 0.40447108,\n",
       "         0.29536506, 0.39745875, 0.33034202],\n",
       "        [0.44643521, 0.39179429, 0.53624438, 0.54561995, 0.3910242 ,\n",
       "         0.16803266, 0.17737828, 0.2033152 , 0.17503117, 0.31447801,\n",
       "         0.23472742, 0.05645746, 0.23899807],\n",
       "        [0.310403  , 0.23296177, 0.54238897, 0.51578855, 0.45421931,\n",
       "         0.16710572, 0.17931741, 0.28736204, 0.31520112, 0.15933369,\n",
       "         0.37232005, 0.30123599, 0.27380547],\n",
       "        [0.39792784, 0.12699434, 0.37718983, 0.46133703, 0.2735733 ,\n",
       "         0.2914165 , 0.29339279, 0.3294513 , 0.33181806, 0.10156961,\n",
       "         0.49330816, 0.60674455, 0.14694243],\n",
       "        [0.31168045, 0.13695431, 0.31298886, 0.43539418, 0.19075839,\n",
       "         0.44859203, 0.38671024, 0.29705139, 0.31412886, 0.16143928,\n",
       "         0.61071763, 0.70302797, 0.16174889]],\n",
       "\n",
       "       [[0.66979229, 0.22267737, 0.63276182, 0.42148095, 0.381339  ,\n",
       "         0.62398898, 0.56567508, 0.21579674, 0.6468217 , 0.40049754,\n",
       "         0.48755737, 0.67436418, 0.66116427],\n",
       "        [0.73330683, 0.21073266, 0.67759539, 0.42191848, 0.4521121 ,\n",
       "         0.66962224, 0.58116934, 0.42264996, 0.46515644, 0.42372864,\n",
       "         0.5146742 , 0.54530816, 0.68737927],\n",
       "        [0.661844  , 0.41377403, 0.58538361, 0.46223325, 0.3914465 ,\n",
       "         0.5170456 , 0.39774825, 0.41629785, 0.45905733, 0.4541289 ,\n",
       "         0.34062179, 0.5121872 , 0.44322063],\n",
       "        [0.73242231, 0.25394938, 0.68290003, 0.6632618 , 0.29585136,\n",
       "         0.52371129, 0.17843974, 0.69356153, 0.59085982, 0.89492786,\n",
       "         0.09382774, 0.20766128, 0.26511136],\n",
       "        [0.60503746, 0.55682237, 0.66438649, 0.65563031, 0.46846196,\n",
       "         0.2220369 , 0.17996302, 0.3423969 , 0.26851389, 0.67708876,\n",
       "         0.1427303 , 0.10076253, 0.22316081],\n",
       "        [0.5414316 , 0.3013929 , 0.65949604, 0.67312018, 0.41894047,\n",
       "         0.33529194, 0.22134861, 0.26139211, 0.31246437, 0.42252759,\n",
       "         0.2416064 , 0.21639584, 0.1694774 ],\n",
       "        [0.63434309, 0.15095402, 0.61591138, 0.67378519, 0.21217786,\n",
       "         0.58935568, 0.4620268 , 0.18478845, 0.41056984, 0.17303736,\n",
       "         0.6208851 , 0.66108366, 0.13896587],\n",
       "        [0.33625039, 0.10922098, 0.49968605, 0.50599437, 0.29206654,\n",
       "         0.68693218, 0.39737344, 0.10918159, 0.37526035, 0.18319689,\n",
       "         0.46133834, 0.68609553, 0.38422148]],\n",
       "\n",
       "       [[0.48799457, 0.14721739, 0.42409595, 0.37345142, 0.48692532,\n",
       "         0.53199474, 0.45641319, 0.27082542, 0.62204801, 0.2575952 ,\n",
       "         0.54458597, 0.58124801, 0.4207539 ],\n",
       "        [0.39259695, 0.11356434, 0.36356213, 0.33932314, 0.81096001,\n",
       "         0.41431448, 0.34300474, 0.28674197, 0.74507809, 0.17251263,\n",
       "         0.54920117, 0.51172796, 0.40254119],\n",
       "        [0.48769872, 0.36554403, 0.46667177, 0.43289548, 0.54251366,\n",
       "         0.30621249, 0.18272156, 0.55222984, 0.48101596, 0.46868327,\n",
       "         0.27514696, 0.27652485, 0.35209735],\n",
       "        [0.58541689, 0.56724109, 0.50844052, 0.47633093, 0.41141584,\n",
       "         0.25255037, 0.08759462, 0.70376596, 0.35140479, 0.74734041,\n",
       "         0.08706585, 0.1130198 , 0.33401831],\n",
       "        [0.57897546, 0.45525502, 0.52473855, 0.51969986, 0.22063106,\n",
       "         0.21909373, 0.07311274, 0.57106848, 0.20304634, 0.68925675,\n",
       "         0.12005697, 0.14649017, 0.24991142],\n",
       "        [0.58048415, 0.38941262, 0.52502901, 0.49673485, 0.22726846,\n",
       "         0.18223572, 0.0839101 , 0.48316459, 0.14116758, 0.42086795,\n",
       "         0.18562521, 0.32565235, 0.2768049 ],\n",
       "        [0.5948991 , 0.1975868 , 0.56247156, 0.51766467, 0.24761657,\n",
       "         0.43863811, 0.38169272, 0.29941487, 0.28888822, 0.23214882,\n",
       "         0.46776456, 0.56407463, 0.31354926],\n",
       "        [0.62532542, 0.19883109, 0.68133063, 0.35112031, 0.36784347,\n",
       "         0.53797416, 0.48913311, 0.35380618, 0.34739859, 0.26538322,\n",
       "         0.47289113, 0.62273564, 0.56755211]],\n",
       "\n",
       "       [[0.44028161, 0.10203829, 0.25793831, 0.26380159, 0.13457261,\n",
       "         0.61628099, 0.52755173, 0.27705253, 0.5179593 , 0.24207494,\n",
       "         0.56987121, 0.63248425, 0.13490615],\n",
       "        [0.35526122, 0.16607159, 0.35850928, 0.35288333, 0.46028234,\n",
       "         0.52904618, 0.40899825, 0.26622651, 0.56156594, 0.19638503,\n",
       "         0.55165665, 0.5560068 , 0.23687888],\n",
       "        [0.47494748, 0.62437363, 0.52412968, 0.51310151, 0.38421167,\n",
       "         0.23488424, 0.10143536, 0.48991529, 0.27926329, 0.53400992,\n",
       "         0.16708237, 0.2034319 , 0.3481232 ],\n",
       "        [0.56699219, 0.73686121, 0.56764547, 0.56488149, 0.22839733,\n",
       "         0.30487699, 0.08261427, 0.75173432, 0.27439569, 0.57999598,\n",
       "         0.08390099, 0.12857066, 0.23805986],\n",
       "        [0.52004157, 0.69063585, 0.52381914, 0.52090484, 0.22209711,\n",
       "         0.14599784, 0.04412947, 0.644923  , 0.17683769, 0.32616649,\n",
       "         0.14751139, 0.08653065, 0.26072739],\n",
       "        [0.437186  , 0.4963985 , 0.48417383, 0.40153733, 0.28971742,\n",
       "         0.14664097, 0.07993905, 0.54325578, 0.14486059, 0.32469544,\n",
       "         0.16211792, 0.20441409, 0.20741651],\n",
       "        [0.50483761, 0.25184277, 0.4220842 , 0.3062477 , 0.24866421,\n",
       "         0.35956747, 0.29004156, 0.40735508, 0.22836286, 0.24041993,\n",
       "         0.39018806, 0.41739842, 0.3755629 ],\n",
       "        [0.73061359, 0.17350119, 0.51664333, 0.28971374, 0.25198051,\n",
       "         0.49072633, 0.46662233, 0.27127357, 0.37958579, 0.32006765,\n",
       "         0.53560529, 0.58750736, 0.70875458]],\n",
       "\n",
       "       [[0.33180106, 0.41870986, 0.43797214, 0.38383725, 0.19742231,\n",
       "         0.6074244 , 0.50020735, 0.39768596, 0.61889752, 0.10845635,\n",
       "         0.62825203, 0.64077637, 0.07427576],\n",
       "        [0.27356539, 0.15157605, 0.45419571, 0.4080043 , 0.23509292,\n",
       "         0.78411708, 0.54198349, 0.14050868, 0.422378  , 0.22290141,\n",
       "         0.53455897, 0.59681624, 0.12840678],\n",
       "        [0.49994861, 0.47874506, 0.5730689 , 0.56688146, 0.26427295,\n",
       "         0.45912364, 0.24186177, 0.55777898, 0.31507644, 0.41347555,\n",
       "         0.28039535, 0.33559701, 0.20727151],\n",
       "        [0.66592567, 0.69504224, 0.52167061, 0.56577248, 0.21596323,\n",
       "         0.21367268, 0.05887534, 0.74434366, 0.22247849, 0.4250113 ,\n",
       "         0.24135997, 0.19798335, 0.19072654],\n",
       "        [0.46990004, 0.68962375, 0.58994212, 0.65816586, 0.23278555,\n",
       "         0.25334385, 0.12993449, 0.88937959, 0.27178931, 0.34473264,\n",
       "         0.25826777, 0.19609852, 0.21732826],\n",
       "        [0.4123556 , 0.22634802, 0.44420284, 0.41284182, 0.25815762,\n",
       "         0.25257001, 0.06666743, 0.85086313, 0.22685404, 0.43951528,\n",
       "         0.19176891, 0.11518239, 0.26714946],\n",
       "        [0.40184309, 0.09243299, 0.14991978, 0.12516766, 0.22031766,\n",
       "         0.34345377, 0.10603542, 0.40864338, 0.06951221, 0.14444871,\n",
       "         0.42950859, 0.22986691, 0.21443188],\n",
       "        [0.55737323, 0.14035144, 0.34876899, 0.22049833, 0.27292982,\n",
       "         0.46239386, 0.39447984, 0.28614006, 0.25554748, 0.22029397,\n",
       "         0.51993185, 0.51859468, 0.45753811]],\n",
       "\n",
       "       [[0.34753665, 0.74604755, 0.46626375, 0.52026358, 0.19109304,\n",
       "         0.61042   , 0.51107432, 0.25845525, 0.65189451, 0.12227895,\n",
       "         0.25368314, 0.72512509, 0.09840248],\n",
       "        [0.18717971, 0.10606555, 0.66258445, 0.43485122, 0.26047752,\n",
       "         0.52909908, 0.47177062, 0.23671111, 0.61956481, 0.13899882,\n",
       "         0.31991264, 0.69476993, 0.22153783],\n",
       "        [0.38837899, 0.3508892 , 0.62770261, 0.58420092, 0.2925864 ,\n",
       "         0.49527224, 0.32346683, 0.5319801 , 0.35293275, 0.27120086,\n",
       "         0.29521232, 0.49362514, 0.20303893],\n",
       "        [0.57559066, 0.46612802, 0.69700138, 0.60831025, 0.2942856 ,\n",
       "         0.23655935, 0.04428802, 0.73526599, 0.10176315, 0.30056308,\n",
       "         0.28846868, 0.316771  , 0.20588764],\n",
       "        [0.57493557, 0.48356886, 0.619123  , 0.53218972, 0.3648683 ,\n",
       "         0.27611002, 0.07215506, 0.79292056, 0.14886343, 0.35991845,\n",
       "         0.34778287, 0.2474113 , 0.23897284],\n",
       "        [0.45805   , 0.10432412, 0.45883624, 0.32382289, 0.35700304,\n",
       "         0.40145229, 0.18443361, 0.82526244, 0.04295999, 0.26037917,\n",
       "         0.46526241, 0.16574523, 0.24333897],\n",
       "        [0.51976759, 0.09073415, 0.34655978, 0.30258226, 0.29175173,\n",
       "         0.38979518, 0.23533995, 0.57191485, 0.1007283 , 0.23641605,\n",
       "         0.51026503, 0.28654717, 0.22649058],\n",
       "        [0.6054966 , 0.07737511, 0.25874057, 0.31277813, 0.22694947,\n",
       "         0.37681202, 0.33526681, 0.28880999, 0.21747805, 0.24479093,\n",
       "         0.57903791, 0.45889102, 0.19765879]]])"
      ]
     },
     "execution_count": 39,
     "metadata": {},
     "output_type": "execute_result"
    }
   ],
   "source": [
    "som._weights"
   ]
  },
  {
   "cell_type": "code",
   "execution_count": 40,
   "metadata": {},
   "outputs": [
    {
     "data": {
      "text/plain": [
       "(8, 8, 13)"
      ]
     },
     "execution_count": 40,
     "metadata": {},
     "output_type": "execute_result"
    }
   ],
   "source": [
    "som._weights.shape"
   ]
  },
  {
   "cell_type": "code",
   "execution_count": 41,
   "metadata": {},
   "outputs": [
    {
     "data": {
      "text/plain": [
       "(8, 8)"
      ]
     },
     "execution_count": 41,
     "metadata": {},
     "output_type": "execute_result"
    }
   ],
   "source": [
    "som._activation_map.shape"
   ]
  },
  {
   "cell_type": "code",
   "execution_count": 42,
   "metadata": {},
   "outputs": [
    {
     "data": {
      "text/plain": [
       "array([[3., 7., 1., 3., 3., 4., 4., 3.],\n",
       "       [4., 4., 5., 1., 4., 2., 5., 6.],\n",
       "       [4., 5., 4., 0., 4., 2., 3., 5.],\n",
       "       [5., 6., 0., 2., 6., 1., 1., 1.],\n",
       "       [0., 3., 0., 3., 5., 1., 1., 5.],\n",
       "       [2., 0., 2., 6., 3., 3., 0., 3.],\n",
       "       [2., 3., 0., 3., 3., 3., 1., 2.],\n",
       "       [3., 3., 0., 3., 2., 3., 0., 2.]])"
      ]
     },
     "execution_count": 42,
     "metadata": {},
     "output_type": "execute_result"
    }
   ],
   "source": [
    "q = som.activation_response(X)\n",
    "q"
   ]
  },
  {
   "cell_type": "code",
   "execution_count": 43,
   "metadata": {},
   "outputs": [
    {
     "data": {
      "text/plain": [
       "(8, 8)"
      ]
     },
     "execution_count": 43,
     "metadata": {},
     "output_type": "execute_result"
    }
   ],
   "source": [
    "q.shape"
   ]
  },
  {
   "cell_type": "code",
   "execution_count": 44,
   "metadata": {},
   "outputs": [
    {
     "data": {
      "image/png": "[encoded data removed]",
      "text/plain": [
       "<Figure size 640x480 with 2 Axes>"
      ]
     },
     "metadata": {},
     "output_type": "display_data"
    }
   ],
   "source": [
    "pcolor(som.distance_map().T)\n",
    "colorbar(); # MID - Mean Inter-neuron Distance"
   ]
  },
  {
   "cell_type": "code",
   "execution_count": 45,
   "metadata": {},
   "outputs": [
    {
     "data": {
      "text/plain": [
       "(3, 0)"
      ]
     },
     "execution_count": 45,
     "metadata": {},
     "output_type": "execute_result"
    }
   ],
   "source": [
    "w = som.winner(X[2])\n",
    "w"
   ]
  },
  {
   "cell_type": "code",
   "execution_count": 46,
   "metadata": {},
   "outputs": [],
   "source": [
    "markers = ['o', 's', 'D',]\n",
    "color = ['r', 'g', 'b']"
   ]
  },
  {
   "cell_type": "code",
   "execution_count": 48,
   "metadata": {},
   "outputs": [
    {
     "data": {
      "image/png": "[encoded data removed]",
      "text/plain": [
       "<Figure size 640x480 with 2 Axes>"
      ]
     },
     "metadata": {},
     "output_type": "display_data"
    }
   ],
   "source": [
    "pcolor(som.distance_map().T)\n",
    "colorbar()\n",
    "\n",
    "for i, x in enumerate(X):\n",
    "    w = som.winner(x)\n",
    "    plot(\n",
    "        w[0] + 0.5, \n",
    "        w[1] + 0.5, \n",
    "        markers[y[i] - 1], \n",
    "        markerfacecolor='None', \n",
    "        markeredgecolor=color[y[i]-1], \n",
    "        markeredgewidth=2, \n",
    "        markersize=10\n",
    "    )"
   ]
  }
 ],
 "metadata": {
  "kernelspec": {
   "display_name": "dlp",
   "language": "python",
   "name": "python3"
  },
  "language_info": {
   "codemirror_mode": {
    "name": "ipython",
    "version": 3
   },
   "file_extension": ".py",
   "mimetype": "text/x-python",
   "name": "python",
   "nbconvert_exporter": "python",
   "pygments_lexer": "ipython3",
   "version": "3.10.14"
  }
 },
 "nbformat": 4,
 "nbformat_minor": 2
}
